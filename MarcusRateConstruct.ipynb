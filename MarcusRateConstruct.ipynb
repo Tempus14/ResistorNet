{
 "cells": [
  {
   "cell_type": "code",
   "execution_count": 1,
   "id": "819f69ac",
   "metadata": {},
   "outputs": [],
   "source": [
    "import networkx as nx\n",
    "import matplotlib.pyplot as plt\n",
    "import numpy as np\n",
    "import random\n",
    "from scipy import sparse\n",
    "from scipy.spatial import distance\n",
    "import warnings\n",
    "warnings.simplefilter(action='ignore', category=FutureWarning)"
   ]
  },
  {
   "cell_type": "markdown",
   "id": "5f8bc825",
   "metadata": {},
   "source": [
    "Rates are constructed as\n",
    "$$ \\omega_{\\mathrm{ij}}=\\frac{2 \\pi}{\\hbar}\\left|J_{\\mathrm{ij}}\\right|^2 \\sqrt{\\frac{1}{4 \\lambda k_{\\mathrm{B}} T}} \\exp \\left(-\\frac{\\left(\\lambda+\\Delta E_{\\mathrm{ij}}\\right)^2}{4 \\lambda k_{\\mathrm{B}} T}\\right) $$"
   ]
  },
  {
   "cell_type": "markdown",
   "id": "c1c21acb",
   "metadata": {},
   "source": [
    "The resistances are therefore constructed as\n",
    "$$ R_{\\mathrm{ij}}= \\frac{\\Delta E_{\\mathrm{ij}}}{Q_{e} \\cdot  \\omega_{\\mathrm{ij}}} $$"
   ]
  },
  {
   "cell_type": "code",
   "execution_count": null,
   "id": "0fdeed0b",
   "metadata": {},
   "outputs": [],
   "source": []
  },
  {
   "cell_type": "code",
   "execution_count": 2,
   "id": "6cbea37a",
   "metadata": {},
   "outputs": [],
   "source": [
    "def Construct(Coo, Typ, Ener, J=0.003, T=300, Lam=0.2):\n",
    "    #Read coordinates from file\n",
    "    coords = list(map(tuple, np.genfromtxt(Coo, delimiter=\" \")))\n",
    "    #Build Graph\n",
    "    F=nx.Graph()\n",
    "    F.add_nodes_from(coords)\n",
    "    #Read Attributes\n",
    "    types = np.genfromtxt(Typ, delimiter=\" \")\n",
    "    energies = np.genfromtxt(Ener, delimiter=\" \")\n",
    "    #Set Attributes\n",
    "    i=0\n",
    "    for u in F.nodes():\n",
    "        F.nodes[u][\"pos\"]=u\n",
    "        F.nodes[u][\"type\"]=types[i]\n",
    "        F.nodes[u][\"potential\"]=energies[i]\n",
    "        i+=1  \n",
    "    #Construct Edges\n",
    "    F.add_edges_from(nx.geometric_edges(F, 1))\n",
    "    \n",
    "    ## Inizializing Marcus Rates ##\n",
    "   \n",
    "    for (u, v) in F.edges(): #die beiden Endpunkte u und v der Kante \n",
    "        #from settings file\n",
    "        #J=J ## attempt frequency (largest possible rate) =>  \"maximum ti\"\n",
    "        #Lam =  Reorganization Energy = lambda = materials => l\n",
    "        kbT=0.0000861801*T #eV\n",
    "        H_Bar = 6.58264*(10**(-16)) # Planck in eV\n",
    "        Qe = 1.602176634*(10**(-19)) # Electron charge\n",
    "        \n",
    "        #dist=distance.euclidean(F.nodes[u][\"pos\"] , F.nodes[v][\"pos\"]) ## distantce between hopping sites\n",
    "        \n",
    "        deltaE=F.nodes[u][\"potential\"] - F.nodes[v][\"potential\"] ## v is start and u is end\n",
    "        rate=2 * np.pi / H_Bar * np.abs(J)**2 * np.sqrt(1/(4 * Lam * kbT)) * np.exp(-((Lam + deltaE)**2)/(4* Lam * kbT))\n",
    "        resistance = deltaE / (Qe * rate )\n",
    "        \n",
    "        if deltaE <0: ## flow from high potential to low\n",
    "            F.edges[u,v]['weight'] = resistance\n",
    "        else: ## reorient edge\n",
    "            # Could not just delete edge and add oposite as (Non-Di-)Graphs sort Edges by the sequence of nodes\n",
    "            # Therefore I just add a negative sign to the resistor and thereby flipping the current direction\n",
    "            F.edges[u,v]['weight'] = (-1) * resistance\n",
    "    \n",
    "    return F\n",
    "\n",
    "\n",
    "#Gitter=Construct(\"coord_0.dat\", \"mol_types_0.dat\", \"site_energies_0.dat\")"
   ]
  },
  {
   "cell_type": "code",
   "execution_count": 3,
   "id": "572e1446",
   "metadata": {},
   "outputs": [],
   "source": [
    "class Solve:\n",
    "    def __init__(self, X):\n",
    "        self.G=X\n",
    "        self.N=self.G.order()\n",
    "        self.nR=self.G.number_of_edges()\n",
    "        \n",
    "    def resistor(self):\n",
    "        #Extract the values of the resistors from the graph and build a nR x nR matrix\n",
    "        mat=sparse.spdiags(list(nx.get_edge_attributes(self.G, \"weight\").values()), 0, self.nR, self.nR)\n",
    "        return sparse.csc_matrix(mat)\n",
    "    \n",
    "    def incidence(self):\n",
    "        #Builds the incidence matrix from the graph\n",
    "        mat= np.transpose(nx.incidence_matrix(self.G, oriented=1)) #Beachte Transpose damit die Dimensionen der networkx funktion zum paper passen\n",
    "        \n",
    "        \n",
    "        ## Siehe Codeschnipsel im ersten Beispiel falls die Orientierung ungünstig ist ##\n",
    "        \n",
    "        \n",
    "        return mat\n",
    "    \n",
    "    def voltages(self):\n",
    "        #Get the potential values from the nodes and build a vector\n",
    "        vec=np.array(list(nx.get_node_attributes(self.G, \"potential\").values()))\n",
    "        return vec\n",
    "\n",
    "    \n",
    "    def currents(self):\n",
    "        #Combines the other functions to get the currents trough the resistors\n",
    "        return - (sparse.linalg.inv(self.resistor()) @ self.incidence()) @ self.voltages()\n",
    "\n",
    "    \n",
    "#Solve(Gitter).currents()   "
   ]
  },
  {
   "cell_type": "code",
   "execution_count": null,
   "id": "9511ad64",
   "metadata": {},
   "outputs": [],
   "source": []
  }
 ],
 "metadata": {
  "kernelspec": {
   "display_name": "Python 3 (ipykernel)",
   "language": "python",
   "name": "python3"
  },
  "language_info": {
   "codemirror_mode": {
    "name": "ipython",
    "version": 3
   },
   "file_extension": ".py",
   "mimetype": "text/x-python",
   "name": "python",
   "nbconvert_exporter": "python",
   "pygments_lexer": "ipython3",
   "version": "3.11.4"
  }
 },
 "nbformat": 4,
 "nbformat_minor": 5
}

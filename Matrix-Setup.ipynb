{
 "cells": [
  {
   "cell_type": "code",
   "execution_count": 1,
   "id": "0d4d9d9f",
   "metadata": {},
   "outputs": [],
   "source": [
    "import networkx as nx\n",
    "import matplotlib.pyplot as plt\n",
    "import copy, random\n",
    "import numpy as np"
   ]
  },
  {
   "cell_type": "code",
   "execution_count": 2,
   "id": "562e80d7",
   "metadata": {},
   "outputs": [],
   "source": [
    "#Initialize Lattice\n",
    "x1=3\n",
    "x2=3\n",
    "G = nx.grid_graph(dim=(x1,x2))\n",
    "\n",
    "#Adjacency Matrix\n",
    "A=nx.adjacency_matrix(G, dtype = \"float32\")"
   ]
  },
  {
   "cell_type": "code",
   "execution_count": 3,
   "id": "f5a6a4f5",
   "metadata": {},
   "outputs": [],
   "source": [
    "#Randomize Resistances\n",
    "R_0=1\n",
    "sigmaR=0.05\n",
    "\n",
    "for (u, v) in G.edges():\n",
    "    G.edges[u,v]['weight'] = random.normalvariate(R_0, sigmaR)\n",
    "\n",
    "R=nx.adjacency_matrix(G, dtype = \"float32\").todense()"
   ]
  },
  {
   "cell_type": "code",
   "execution_count": 4,
   "id": "ab94cc8a",
   "metadata": {},
   "outputs": [],
   "source": [
    "#Randomize Potentials\n",
    "P_0=0\n",
    "sigmaP=0.5\n",
    "\n",
    "for (i,j) in G.nodes:\n",
    "    G.nodes[i,j]['potential'] = random.normalvariate(P_0, sigmaP)\n",
    "labels = nx.get_node_attributes(G, 'potential') "
   ]
  },
  {
   "cell_type": "code",
   "execution_count": 7,
   "id": "934c95dc",
   "metadata": {},
   "outputs": [],
   "source": [
    "#nx.draw_networkx(G, labels=labels)"
   ]
  },
  {
   "cell_type": "code",
   "execution_count": 8,
   "id": "6d1b80c4",
   "metadata": {},
   "outputs": [],
   "source": [
    "#print(R)"
   ]
  },
  {
   "cell_type": "markdown",
   "id": "6f2577e4",
   "metadata": {},
   "source": [
    "### Following the Paper: Efficient Methods for Large Resistor Networks - Rommes und Schilders 2010"
   ]
  },
  {
   "cell_type": "markdown",
   "id": "de1a3b5c",
   "metadata": {},
   "source": [
    "Das Gleichungssystem kann formuliert werden als\n",
    "$$\n",
    "\\left[\\begin{array}{cc}\n",
    "R & P \\\\\n",
    "-P^T & 0\n",
    "\\end{array}\\right]\\left[\\begin{array}{c}\n",
    "\\mathbf{i}_b \\\\\n",
    "\\mathbf{v}\n",
    "\\end{array}\\right]=\\left[\\begin{array}{l}\n",
    "\\mathbf{0} \\\\\n",
    "\\mathbf{i}_n\n",
    "\\end{array}\\right]\n",
    "$$\n",
    "mit Widerstandsmatrix $R $ (Widerstände auf der Hauptdiagonalen) und der Inzidenzmatrix $P$. Für uns relevant sind die Widerstandsströme $ \\mathbf{i}_b $.   \n",
    "Mit Hilfe der Ersetzung $i_b=$ $-R^{-1} P \\mathbf{v}$ führt das zu der Formulierung\n",
    "$$\n",
    "G \\mathbf{v}=\\mathbf{i}_n\n",
    "$$\n",
    "mit der Leitfähigkeitsmatrix $G=P^T R^{-1} P \\in \\mathbb{R}^{n \\times n}$. Nach Aufteilung der Knoten in innenliegende und außenliegende (welche auch Strom aufnehmen können):\n",
    "$$\n",
    "\\left[\\begin{array}{ll}\n",
    "G_{11} & G_{12} \\\\\n",
    "G_{12}^T & G_{22}\n",
    "\\end{array}\\right]\\left[\\begin{array}{l}\n",
    "\\mathbf{v}_e \\\\\n",
    "\\mathbf{v}_i\n",
    "\\end{array}\\right]=\\left[\\begin{array}{l}\n",
    "B \\\\\n",
    "0\n",
    "\\end{array}\\right] \\mathbf{i}_e\n",
    "$$\n",
    "mit externen Strömen $\\mathbf{i}_e$.   \n",
    "Ein Knoten muss als Referenz genommen werden. Das Potential wird auf Null gesetzt und alle zugehörigen Gleichungen werden entfernt. (Die resultierende Matrix wird weiterhin $G$ genannt.)"
   ]
  },
  {
   "cell_type": "markdown",
   "id": "e1ba2494",
   "metadata": {},
   "source": [
    "Um das Problem zu lösen wird $G$ mittels Cholesky Zerlegung in zwei Dreiecksmatrizen zerlegt $G=LL^T$. (Das kann schneller gemacht werden mit AMD.) Die Spannungen werden berechnet durch $ \\mathbf{v}=G^{-1} \\mathbf{i}_n$ wobei das schrittweise durch $L \\mathbf{x}=\\mathbf{i}_n$ und $L^{T} \\mathbf{v}=\\mathbf{x}$. Schließlich wird der Strom durch $-R^{-1} P \\mathbf{v}=i_b$ berechnet."
   ]
  },
  {
   "cell_type": "markdown",
   "id": "c26965d8",
   "metadata": {},
   "source": [
    "#### Bemerkung:\n",
    "*Für die Berechnung der Ströme über Widerstände sind also konkret die Widerstandswerte, die Inzidenzmatrix und die Potentialdifferenz zwischen Knoten nötig. Der Rest ist nötig um die Potentialwerte an den Knoten zu berechnen. Bei uns sind diese Werte allerdings bekannt. Das vereinfacht das Problem wahrscheinlich immens, allerdings müssen wir nochmal darüber nachdenken ob KVL für unsere Potenitale gerechtfertigt ist*"
   ]
  },
  {
   "cell_type": "code",
   "execution_count": 9,
   "id": "14e0fb82",
   "metadata": {},
   "outputs": [],
   "source": [
    "class Rommes:\n",
    "    def __init__(self, X):\n",
    "        self.G=X\n",
    "        self.N=self.G.order()\n",
    "        self.nR=self.G.number_of_edges()\n",
    "        \n",
    "    def resistor(self):\n",
    "        #Extract the values of the resistors from the graph and build a nR x nR matrix\n",
    "        mat=np.zeros((self.nR,self.nR))\n",
    "        i=0\n",
    "        for (u, v) in self.G.edges():\n",
    "            mat[i,i]=self.G.edges[u,v][\"weight\"]\n",
    "            i+=1\n",
    "        #mat=np.delete(mat, 0,0) #delete Equations for grounded node\n",
    "        return mat\n",
    "    \n",
    "    def incidence(self):\n",
    "        #Builds the incidence matrix from the graph\n",
    "        mat= np.transpose(nx.incidence_matrix(self.G, oriented=1).todense()) #Beachte Transpose damit die Dimensionen der numpy funktion zum paper passen\n",
    "        \n",
    "        #Siehe Erstes Beispiel falls die Orientierung ungünstig ist\n",
    "        \n",
    "        \n",
    "        return mat\n",
    "    \n",
    "    def voltages(self):\n",
    "        #Get the potential values from the nodes and build a vector\n",
    "        vec=np.zeros(self.N)\n",
    "        i=0\n",
    "        for u in self.G.nodes:\n",
    "            vec[i]=self.G.nodes[u]['potential']\n",
    "            i+=1\n",
    "        return vec\n",
    "    \n",
    "        \n",
    "        ###\n",
    "        #Beachte: Dimension der Benennung in G => G.nodes[i], G.nodes[i]\n",
    "        \n",
    "        #vec=np.zeros(self.N)\n",
    "        #i=0\n",
    "        #for (u,v) in self.G.nodes:\n",
    "        #    vec[i]=self.G.nodes[u,v]['potential']\n",
    "        #    i+=1\n",
    "        #return vec\n",
    "    \n",
    "    def currents(self):\n",
    "        #Combines the other functions to get the currents trough the resistors\n",
    "        return - np.matmul(np.matmul(np.linalg.inv(self.resistor()) , self.incidence()) , self.voltages())"
   ]
  },
  {
   "cell_type": "code",
   "execution_count": 12,
   "id": "21d73211",
   "metadata": {
    "scrolled": true
   },
   "outputs": [],
   "source": [
    "#see https://www.electronics-tutorials.ws/dccircuits/dcp_6.html\n",
    "W=nx.DiGraph()\n",
    "W.add_edges_from([(0,1),(0,3),(2,0),(1,2),(3,2)])\n",
    "\n",
    "#nx.draw_networkx(W)\n",
    "\n",
    "W.add_nodes_from(range(4))\n",
    "W.nodes[0]['potential'] = 0\n",
    "W.nodes[1]['potential'] = 10\n",
    "W.nodes[2]['potential'] = 11.44\n",
    "W.nodes[3]['potential'] = 20\n",
    "\n",
    "for (u, v) in W.edges():\n",
    "    W.edges[u,v]['weight'] = 10000\n",
    "W.edges[1,2]['weight'] = 10\n",
    "W.edges[3,2]['weight'] = 20\n",
    "W.edges[2,0]['weight'] = 40\n"
   ]
  },
  {
   "cell_type": "code",
   "execution_count": 14,
   "id": "af586ead",
   "metadata": {},
   "outputs": [
    {
     "data": {
      "text/plain": [
       "False"
      ]
     },
     "execution_count": 14,
     "metadata": {},
     "output_type": "execute_result"
    }
   ],
   "source": [
    "Tut=Rommes(W)\n",
    "np.abs(Tut.currents()[2]) == 0.286"
   ]
  },
  {
   "cell_type": "code",
   "execution_count": 19,
   "id": "38b0be5c",
   "metadata": {},
   "outputs": [
    {
     "data": {
      "text/plain": [
       "array([ 0.  , 10.  , 20.  , 11.44])"
      ]
     },
     "execution_count": 19,
     "metadata": {},
     "output_type": "execute_result"
    }
   ],
   "source": [
    "Tut.voltages()"
   ]
  },
  {
   "cell_type": "code",
   "execution_count": 16,
   "id": "07713698",
   "metadata": {},
   "outputs": [
    {
     "data": {
      "text/plain": [
       "array([[10000.,     0.,     0.,     0.,     0.],\n",
       "       [    0., 10000.,     0.,     0.,     0.],\n",
       "       [    0.,     0.,    10.,     0.,     0.],\n",
       "       [    0.,     0.,     0.,    20.,     0.],\n",
       "       [    0.,     0.,     0.,     0.,    40.]])"
      ]
     },
     "execution_count": 16,
     "metadata": {},
     "output_type": "execute_result"
    }
   ],
   "source": [
    "Tut.resistor()"
   ]
  },
  {
   "cell_type": "code",
   "execution_count": 31,
   "id": "0463e941",
   "metadata": {},
   "outputs": [
    {
     "data": {
      "text/plain": [
       "array([[-1.,  1.,  0.,  0.],\n",
       "       [-1.,  0.,  1.,  0.],\n",
       "       [ 0., -1.,  0.,  1.],\n",
       "       [ 0.,  0., -1.,  1.],\n",
       "       [ 1.,  0.,  0., -1.]])"
      ]
     },
     "execution_count": 31,
     "metadata": {},
     "output_type": "execute_result"
    }
   ],
   "source": [
    "Tut.incidence()"
   ]
  },
  {
   "cell_type": "markdown",
   "id": "7c56058f",
   "metadata": {},
   "source": [
    "Struktur der Inzidenzmatrix:   \n",
    "[Widerstand 1]   \n",
    "[Widerstand 2]   \n",
    "[Widerstand 3]     \n",
    "bzw.   \n",
    "[N N N N]   \n",
    "[O O O O]   \n",
    "[D D D D]   \n",
    "[E E E E]   \n",
    "[1 2 3 4]   "
   ]
  },
  {
   "cell_type": "code",
   "execution_count": 18,
   "id": "6a92caad",
   "metadata": {},
   "outputs": [
    {
     "data": {
      "text/plain": [
       "array([-0.001, -0.002, -0.144,  0.428,  0.286])"
      ]
     },
     "execution_count": 18,
     "metadata": {},
     "output_type": "execute_result"
    }
   ],
   "source": [
    "Tut.currents()"
   ]
  },
  {
   "cell_type": "code",
   "execution_count": null,
   "id": "38ce4d56",
   "metadata": {},
   "outputs": [],
   "source": []
  },
  {
   "cell_type": "markdown",
   "id": "7c97c284",
   "metadata": {},
   "source": [
    "Im Beispiel wird der richtige Zahlenwert für die gesuchte Größe produziert, das Vorzeichen stimmt aber nicht, da die Inzidenzmatrix keine VZ vergibt und es musste ein sehr hoher (aber endlicher) Widerstand über die Spannungsquellen angenommen werden. Auch stimmen die anderen Ströme nicht mit den Werten aus anderen Rechnungen überein."
   ]
  },
  {
   "cell_type": "markdown",
   "id": "11eaded5",
   "metadata": {},
   "source": [
    "*Vielleicht kann der Fehler in der Inzidenzmatrix behoben werden, wenn die VZ aus Potentialdifferenzen abgeschätzt wird.*"
   ]
  },
  {
   "cell_type": "markdown",
   "id": "854ac202",
   "metadata": {},
   "source": [
    "Habe das \"Problem\" behoben, indem ich den Graph orientdiert habe und dabei die Orientierungen aus der Skizze übernommen habe. Die Lösung ist nun identisch zur Musterlösung."
   ]
  },
  {
   "cell_type": "code",
   "execution_count": 26,
   "id": "fdfd0f48",
   "metadata": {},
   "outputs": [
    {
     "data": {
      "text/plain": [
       "[1]"
      ]
     },
     "execution_count": 26,
     "metadata": {},
     "output_type": "execute_result"
    }
   ],
   "source": [
    "Y=[]\n",
    "Y.append(1)\n",
    "Y"
   ]
  },
  {
   "cell_type": "code",
   "execution_count": 38,
   "id": "1b803227",
   "metadata": {},
   "outputs": [
    {
     "data": {
      "text/plain": [
       "array([[ 1., -1.,  0.,  0.],\n",
       "       [ 1.,  0., -1.,  0.],\n",
       "       [ 0.,  1.,  0., -1.],\n",
       "       [ 0.,  0., -1.,  1.],\n",
       "       [ 1.,  0.,  0., -1.]])"
      ]
     },
     "execution_count": 38,
     "metadata": {},
     "output_type": "execute_result"
    }
   ],
   "source": [
    "#Ansatz falls die Orientierung ungünstig ist\n",
    "Mat=Tut.incidence()\n",
    "V=Tut.voltages()\n",
    "for x in range(np.shape(Mat)[0]):\n",
    "    Y=[]\n",
    "    for y in range(np.shape(Mat)[1]):\n",
    "        if Mat[x,y] !=0:\n",
    "            Y.append(y)\n",
    "    Mat[x,Y[0]]=-np.sign(V[Y[0]]-V[Y[1]])\n",
    "    Mat[x,Y[1]]=-Mat[x,Y[0]]\n",
    "Mat"
   ]
  },
  {
   "cell_type": "code",
   "execution_count": 39,
   "id": "b17b4043",
   "metadata": {},
   "outputs": [
    {
     "data": {
      "text/plain": [
       "array([0.001, 0.002, 0.144, 0.428, 0.286])"
      ]
     },
     "execution_count": 39,
     "metadata": {},
     "output_type": "execute_result"
    }
   ],
   "source": [
    "- np.matmul(np.matmul(np.linalg.inv(Tut.resistor()) , Mat) , Tut.voltages())"
   ]
  },
  {
   "cell_type": "markdown",
   "id": "116a408d",
   "metadata": {},
   "source": [
    "### Following the Paper: Green's Function for Random Resistor Networks - Bhattacharjee und Ramola 2023"
   ]
  },
  {
   "cell_type": "markdown",
   "id": "9449e290",
   "metadata": {},
   "source": [
    "*Das Vorgehen ist eine Fortsetzung des Papers: Application of the lattice Greens function for calculating the resistance of an infinite network of resistors - Cserti 2000*"
   ]
  },
  {
   "cell_type": "markdown",
   "id": "fe0278d6",
   "metadata": {},
   "source": [
    "Zu lösen ist im Paper die Gleichung\n",
    "$$\n",
    "L \\mid V \\rangle + \\mid I\\rangle =0\n",
    "$$\n",
    " mit der Leitfäghigkeitsmatrix (oder Gitterlaplacian)\n",
    " $$\n",
    "[\\mathbf{L}]_{i j}:= \\begin{cases}-\\sum_{j \\text { with }\\langle i j\\rangle}\\left(R_{i j}\\right)^{-1} & \\text { if } i=j \\\\ \\left(R_{i j}\\right)^{-1} & \\text { if }\\langle i j\\rangle \\\\ 0 & \\text { otherwise. }\\end{cases}\n",
    "$$\n",
    "Es ist zu beachten, dass die  $\\mid I \\rangle$ die Ströme an den Knotenpunkten sind. Die Ströme über die Widerstände sind\n",
    "$$\n",
    "\\mid J_{\\hat{e}}\\rangle_{i} = \\frac{\\mid V \\rangle _{i} - \\mid V \\rangle _{j}}{R_{ij}}  \\text{   mit } \\langle ij \\rangle _{\\hat{e}}\n",
    "$$"
   ]
  },
  {
   "cell_type": "markdown",
   "id": "73339306",
   "metadata": {},
   "source": [
    "Es wird dann die Greensfuntkion\n",
    "$$\n",
    "G=L^{-1}\n",
    "$$\n",
    "definiert und gesucht. Durch die Summenregel in Kichhoffsgesetz ist $L$ nicht invertierbar und wir deshalb aus der Nullmode $\\mid 0 \\rangle = (1 1 1 1 )^T$ herausprojeziert (???). Damit ist dann\n",
    "$$\n",
    "LG=GL=-(\\mathbb{1} - \\mid 0 \\rangle \\langle 0  \\mid)\n",
    "$$\n",
    "Die Inverse $G$ kann entweder nummerisch, oder mit dem im Paper vorgeschlagenen Ansatz als Greensfunktion des perfekten Gitters und Korrekturen berechnet werden.   \n",
    "Die Ströme über die Widerstände können aus\n",
    "aus\n",
    "$$\n",
    "D_{\\hat{e}}\\left|V\\right\\rangle + \\left|J_{\\hat{e}}\\right\\rangle =0\n",
    "$$\n",
    "\n",
    "als \n",
    "$$\n",
    "\\left|J_{\\hat{e}}\\right\\rangle=-\\mathrm{D}_{\\hat{e}}|V\\rangle\n",
    "$$\n",
    "berechnet werden, sobald die Spannungen bekannt sind. Dabei ist die Differenzmatrix $D_{\\hat{e}}$ definiert als\n",
    "$$\n",
    "\\left[\\mathrm{D}_{\\hat{e}}\\right]_{i j}:=\\left(R_{\\langle i j\\rangle_{\\hat{e}}}\\right)^{-1} \\begin{cases}-1 & \\text { if } i=j \\\\ 1 & \\text { if }\\langle i j\\rangle_{\\hat{e}} \\\\ 0 & \\text { otherwise }\\end{cases}\n",
    "$$\n"
   ]
  },
  {
   "cell_type": "code",
   "execution_count": null,
   "id": "42991672",
   "metadata": {},
   "outputs": [],
   "source": [
    "class Ramola:\n",
    "    def __init__(self, G):\n",
    "        self.G=G"
   ]
  },
  {
   "cell_type": "markdown",
   "id": "e8131979",
   "metadata": {},
   "source": [
    "### Following Paper: Theory of resistor networks: the two-point resistance: Wu 2004"
   ]
  },
  {
   "cell_type": "markdown",
   "id": "5c2c97a8",
   "metadata": {},
   "source": [
    "Zu Lösen ist \n",
    "$$\n",
    "\\mathbf{L} \\vec{V}=\\vec{I}\n",
    "$$\n",
    "mit den Knotenpotentialen, den Knotenströmen und der Leitfähigkeitsmatrix\n",
    "$$\n",
    "\\mathbf{L}=\\left(\\begin{array}{cccc}\n",
    "c_1 & -c_{12} & \\cdots & -c_{1 \\mathcal{N}} \\\\\n",
    "-c_{21} & c_2 & \\cdots & -c_{2 N} \\\\\n",
    "\\vdots & \\vdots & \\ddots & \\vdots \\\\\n",
    "-c_{N 1} & -c_{N 2} & \\cdots & c_{\\mathcal{N}}\n",
    "\\end{array}\\right)\n",
    "$$\n",
    "dabei sind die Offdiagonalelemente die Reziproken der Widerstandswerte der Verbindungen und die Diagonalelemente\n",
    "$$\n",
    "c_i \\equiv \\sum_{j=1}^{\\mathcal{N}} c_{i j}^{\\prime}\n",
    "$$\n",
    "Als Randbedingungen gelten die Kirchhoff Gesetze\n",
    "\n",
    "$$\n",
    "\\sum_{j=1}^{\\mathcal{N}}{ }^{\\prime} c_{i j}\\left(V_i-V_j\\right)=I_i \\quad i=1,2, \\ldots, \\mathcal{N} \\text{ ohne i=j}\n",
    "$$\n",
    "\n",
    "und\n",
    "\n",
    "$$\n",
    "\\sum_{i=1}^{\\mathcal{N}} I_{i} =0\n",
    "$$\n"
   ]
  },
  {
   "cell_type": "markdown",
   "id": "ceb11074",
   "metadata": {},
   "source": [
    "Null ist ein Eigenvektor von $L$, weshalb die Matrix nicht ohne Weiteres invertiert werden kann. Es wird ein kleiner Term addiert\n",
    "$$\n",
    "L(\\epsilon) = L + \\epsilon \\mathbb{1}\n",
    "$$\n",
    "$\\epsilon$ wird am Ende auf Null gesetzt.\n",
    "Mit der Greensfunktion $G$ als Inverse von $L $ werden die Potentiale als $\\vec{V}(\\epsilon) = G(\\epsilon) \\vec{I}$ berechnet.  \n",
    "Dafür wird nun die unitäre Matrix $U$ gesucht die $L$ diagonalisiert\n",
    "$$\n",
    "U^{\\dagger} L(\\epsilon) U = \\Lambda (\\epsilon)\n",
    "$$\n",
    "dabei hat die Matrix $\\Lambda$ die Eigenwerte (bzw. ihre um $\\epsilon$ verschobenen Werte) von $L$ auf der Hauptdiagonalen. Die Matrix $U$ hat die Eigenvektorelemente $U_{ij}=\\Psi_{ij}$.   \n",
    "Damit ist\n",
    "$$\n",
    "G_{\\alpha \\beta}(\\epsilon)=\\sum_{i=1}^{\\mathcal{N}} U_{\\alpha i}\\left(\\frac{1}{\\lambda_i+\\epsilon}\\right) U_{\\beta i}^*\n",
    "$$\n",
    "oder die (in diesem Paper gesuchenten) Widerstände\n",
    "$$\n",
    "R_{\\alpha \\beta}=\\sum_{i=2}^{\\mathcal{N}} \\frac{1}{\\lambda_i}\\left|\\psi_{i \\alpha}-\\psi_{i \\beta}\\right|^2\n",
    "$$"
   ]
  },
  {
   "cell_type": "code",
   "execution_count": null,
   "id": "20afa64e",
   "metadata": {},
   "outputs": [],
   "source": []
  }
 ],
 "metadata": {
  "kernelspec": {
   "display_name": "Python 3 (ipykernel)",
   "language": "python",
   "name": "python3"
  },
  "language_info": {
   "codemirror_mode": {
    "name": "ipython",
    "version": 3
   },
   "file_extension": ".py",
   "mimetype": "text/x-python",
   "name": "python",
   "nbconvert_exporter": "python",
   "pygments_lexer": "ipython3",
   "version": "3.10.11"
  }
 },
 "nbformat": 4,
 "nbformat_minor": 5
}

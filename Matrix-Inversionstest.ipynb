{
 "cells": [
  {
   "cell_type": "code",
   "execution_count": 13,
   "id": "c9c9db09",
   "metadata": {},
   "outputs": [],
   "source": [
    "import numpy as np\n",
    "from sympy import *"
   ]
  },
  {
   "cell_type": "code",
   "execution_count": 32,
   "id": "b80b3cc3",
   "metadata": {},
   "outputs": [],
   "source": [
    "A=Symbol(\"A\")\n",
    "B=Symbol(\"B\")\n",
    "inf=Symbol(\"inf\")\n",
    "L=Matrix([[-1/A,1/A,0],[1/A,-1/A-1/B,1/B],[0,1/B,-1/B]])\n",
    "R=Matrix([[0,A,A+B],[A,0,B],[A+B,B,0]])\n",
    "R_0=Matrix([[0,A,inf],[A,0,B],[inf,B,0]])"
   ]
  },
  {
   "cell_type": "code",
   "execution_count": 3,
   "id": "876b31f1",
   "metadata": {},
   "outputs": [
    {
     "data": {
      "text/latex": [
       "$\\displaystyle \\left[\\begin{matrix}0 & A & A + B\\\\A & 0 & B\\\\A + B & B & 0\\end{matrix}\\right]$"
      ],
      "text/plain": [
       "Matrix([\n",
       "[    0, A, A + B],\n",
       "[    A, 0,     B],\n",
       "[A + B, B,     0]])"
      ]
     },
     "execution_count": 3,
     "metadata": {},
     "output_type": "execute_result"
    }
   ],
   "source": [
    "R"
   ]
  },
  {
   "cell_type": "code",
   "execution_count": 4,
   "id": "5ebbf6da",
   "metadata": {},
   "outputs": [
    {
     "data": {
      "text/latex": [
       "$\\displaystyle \\left[\\begin{matrix}- \\frac{1}{A} & \\frac{1}{A} & 0\\\\\\frac{1}{A} & - \\frac{1}{B} - \\frac{1}{A} & \\frac{1}{B}\\\\0 & \\frac{1}{B} & - \\frac{1}{B}\\end{matrix}\\right]$"
      ],
      "text/plain": [
       "Matrix([\n",
       "[-1/A,        1/A,    0],\n",
       "[ 1/A, -1/B - 1/A,  1/B],\n",
       "[   0,        1/B, -1/B]])"
      ]
     },
     "execution_count": 4,
     "metadata": {},
     "output_type": "execute_result"
    }
   ],
   "source": [
    "L"
   ]
  },
  {
   "cell_type": "code",
   "execution_count": 6,
   "id": "a86a5fd6",
   "metadata": {},
   "outputs": [
    {
     "data": {
      "text/latex": [
       "$\\displaystyle \\left[\\begin{matrix}- \\frac{B}{2 A^{2} + 2 A B} & \\frac{1}{2 A} & \\frac{1}{2 A + 2 B}\\\\\\frac{1}{2 A} & \\frac{- A - B}{2 A B} & \\frac{1}{2 B}\\\\\\frac{1}{2 A + 2 B} & \\frac{1}{2 B} & - \\frac{A}{2 A B + 2 B^{2}}\\end{matrix}\\right]$"
      ],
      "text/plain": [
       "Matrix([\n",
       "[-B/(2*A**2 + 2*A*B),          1/(2*A),       1/(2*A + 2*B)],\n",
       "[            1/(2*A), (-A - B)/(2*A*B),             1/(2*B)],\n",
       "[      1/(2*A + 2*B),          1/(2*B), -A/(2*A*B + 2*B**2)]])"
      ]
     },
     "execution_count": 6,
     "metadata": {},
     "output_type": "execute_result"
    }
   ],
   "source": [
    "R.inv()"
   ]
  },
  {
   "cell_type": "code",
   "execution_count": 10,
   "id": "8087149e",
   "metadata": {},
   "outputs": [
    {
     "name": "stdout",
     "output_type": "stream",
     "text": [
      "nicht invertierbar\n"
     ]
    }
   ],
   "source": [
    "try:\n",
    "    L.inv()\n",
    "except:\n",
    "    print(\"nicht invertierbar\")"
   ]
  },
  {
   "cell_type": "code",
   "execution_count": 11,
   "id": "74404971",
   "metadata": {},
   "outputs": [
    {
     "data": {
      "text/latex": [
       "$\\displaystyle 0$"
      ],
      "text/plain": [
       "0"
      ]
     },
     "execution_count": 11,
     "metadata": {},
     "output_type": "execute_result"
    }
   ],
   "source": [
    "L.det()"
   ]
  },
  {
   "cell_type": "code",
   "execution_count": 26,
   "id": "56d8736e",
   "metadata": {},
   "outputs": [
    {
     "data": {
      "text/plain": [
       "array([[1, 1, 1],\n",
       "       [1, 1, 1],\n",
       "       [1, 1, 1]])"
      ]
     },
     "execution_count": 26,
     "metadata": {},
     "output_type": "execute_result"
    }
   ],
   "source": [
    "#Zero Mode as mentionioned in Bhattacherajee 2023 Gleichung 8\n",
    "zero = np.array([1, 1, 1])\n",
    "zeroT=np.array([[1],[1],[1]])\n",
    "zeroT * zero "
   ]
  },
  {
   "cell_type": "code",
   "execution_count": 30,
   "id": "c3c99e79",
   "metadata": {},
   "outputs": [
    {
     "data": {
      "text/latex": [
       "$\\displaystyle \\left[\\begin{matrix}2 & 0 & 0\\\\1 & 3 & 1\\\\0 & 0 & 2\\end{matrix}\\right]$"
      ],
      "text/plain": [
       "Matrix([\n",
       "[2, 0, 0],\n",
       "[1, 3, 1],\n",
       "[0, 0, 2]])"
      ]
     },
     "execution_count": 30,
     "metadata": {},
     "output_type": "execute_result"
    }
   ],
   "source": [
    "simplify(L*R+ zeroT * zero)"
   ]
  },
  {
   "cell_type": "code",
   "execution_count": 36,
   "id": "f00b4ae5",
   "metadata": {},
   "outputs": [
    {
     "data": {
      "text/latex": [
       "$\\displaystyle \\left[\\begin{matrix}2 & 0 & \\frac{A + B - \\infty}{A}\\\\\\frac{- A + \\infty}{B} & 3 & \\frac{- B + \\infty}{A}\\\\\\frac{A + B - \\infty}{B} & 0 & 2\\end{matrix}\\right]$"
      ],
      "text/plain": [
       "Matrix([\n",
       "[             2, 0, (A + B - oo)/A],\n",
       "[   (-A + oo)/B, 3,    (-B + oo)/A],\n",
       "[(A + B - oo)/B, 0,              2]])"
      ]
     },
     "execution_count": 36,
     "metadata": {},
     "output_type": "execute_result"
    }
   ],
   "source": [
    "simplify(L*R_0+ zeroT * zero).subs({inf: oo})"
   ]
  },
  {
   "cell_type": "code",
   "execution_count": 38,
   "id": "51d8ac18",
   "metadata": {},
   "outputs": [
    {
     "data": {
      "text/latex": [
       "$\\displaystyle \\left[\\begin{matrix}2 & 0 & - \\infty \\operatorname{sign}{\\left(\\frac{1}{A} \\right)}\\\\\\infty \\operatorname{sign}{\\left(\\frac{1}{B} \\right)} & 3 & \\infty \\operatorname{sign}{\\left(\\frac{1}{A} \\right)}\\\\- \\infty \\operatorname{sign}{\\left(\\frac{1}{B} \\right)} & 0 & 2\\end{matrix}\\right]$"
      ],
      "text/plain": [
       "Matrix([\n",
       "[            2, 0, -oo*sign(1/A)],\n",
       "[ oo*sign(1/B), 3,  oo*sign(1/A)],\n",
       "[-oo*sign(1/B), 0,             2]])"
      ]
     },
     "execution_count": 38,
     "metadata": {},
     "output_type": "execute_result"
    }
   ],
   "source": [
    "simplify(L*R_0+ zeroT * zero).limit(inf, oo)"
   ]
  },
  {
   "cell_type": "code",
   "execution_count": 41,
   "id": "0ff24800",
   "metadata": {},
   "outputs": [
    {
     "data": {
      "text/latex": [
       "$\\displaystyle \\left[\\begin{matrix}1 & -1 & -1\\\\0 & 2 & 0\\\\-1 & -1 & 1\\end{matrix}\\right]$"
      ],
      "text/plain": [
       "Matrix([\n",
       "[ 1, -1, -1],\n",
       "[ 0,  2,  0],\n",
       "[-1, -1,  1]])"
      ]
     },
     "execution_count": 41,
     "metadata": {},
     "output_type": "execute_result"
    }
   ],
   "source": [
    "simplify(L*R)"
   ]
  },
  {
   "cell_type": "code",
   "execution_count": 42,
   "id": "ab1daacf",
   "metadata": {},
   "outputs": [
    {
     "data": {
      "text/latex": [
       "$\\displaystyle \\left[\\begin{matrix}1 & 0 & -1\\\\-1 & 2 & -1\\\\-1 & 0 & 1\\end{matrix}\\right]$"
      ],
      "text/plain": [
       "Matrix([\n",
       "[ 1, 0, -1],\n",
       "[-1, 2, -1],\n",
       "[-1, 0,  1]])"
      ]
     },
     "execution_count": 42,
     "metadata": {},
     "output_type": "execute_result"
    }
   ],
   "source": [
    "simplify(R*L)"
   ]
  },
  {
   "cell_type": "code",
   "execution_count": null,
   "id": "480cfc58",
   "metadata": {},
   "outputs": [],
   "source": []
  }
 ],
 "metadata": {
  "kernelspec": {
   "display_name": "Python 3 (ipykernel)",
   "language": "python",
   "name": "python3"
  },
  "language_info": {
   "codemirror_mode": {
    "name": "ipython",
    "version": 3
   },
   "file_extension": ".py",
   "mimetype": "text/x-python",
   "name": "python",
   "nbconvert_exporter": "python",
   "pygments_lexer": "ipython3",
   "version": "3.10.11"
  }
 },
 "nbformat": 4,
 "nbformat_minor": 5
}

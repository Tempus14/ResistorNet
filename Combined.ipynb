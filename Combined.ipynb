{
 "cells": [
  {
   "cell_type": "markdown",
   "id": "84476142",
   "metadata": {},
   "source": [
    "# Combination of all important functions\n",
    "This is a summary of the important functions for constructing a network and solving it for the currents.   \n",
    "First off there is the Construct function which takes the paths to the input data and builds a corresponding Networkx-Graph from it.  \n",
    "Then there ist the Solve class which takes a network as input and can then construct the matrices and vectors needed to solve for the currents.   \n",
    "In the end there is a snippet attached which can be used to orient the edges/current-directions. It takes a incidence-like matrix as input and changes the signs according to the potential landscape."
   ]
  },
  {
   "cell_type": "code",
   "execution_count": 1,
   "id": "de42e356",
   "metadata": {},
   "outputs": [],
   "source": [
    "import networkx as nx\n",
    "import matplotlib.pyplot as plt\n",
    "import numpy as np\n",
    "import random\n",
    "from scipy import sparse\n",
    "import warnings\n",
    "warnings.simplefilter(action='ignore', category=FutureWarning)"
   ]
  },
  {
   "cell_type": "code",
   "execution_count": 2,
   "id": "fe719ac0",
   "metadata": {},
   "outputs": [],
   "source": [
    "def Construct(Coo, Typ, Ener):\n",
    "    #Read coordinates from file\n",
    "    coords = list(map(tuple, np.genfromtxt(Coo, delimiter=\" \")))\n",
    "    #Build Graph\n",
    "    F=nx.Graph()\n",
    "    F.add_nodes_from(coords)\n",
    "    #Read Attributes\n",
    "    types = np.genfromtxt(Typ, delimiter=\" \")\n",
    "    energies = np.genfromtxt(Ener, delimiter=\" \")\n",
    "    #Set Attributes\n",
    "    i=0\n",
    "    for u in F.nodes():\n",
    "        F.nodes[u][\"pos\"]=u\n",
    "        F.nodes[u][\"type\"]=types[i]\n",
    "        F.nodes[u][\"potential\"]=energies[i]\n",
    "        i+=1  \n",
    "    #Construct Edges\n",
    "    F.add_edges_from(nx.geometric_edges(F, 1))\n",
    "    \n",
    "    ## Inizializing with random values until access to resistivity values ##\n",
    "    R_0=1\n",
    "    sigmaR=0.05\n",
    "    for (u, v) in F.edges(): #die beiden Endpunkte u und v der Kante\n",
    "        F.edges[u,v]['weight'] = random.normalvariate(R_0, sigmaR)\n",
    "        \n",
    "    ## These Edges should maybe be oriented by using some variation of the code in the end ##\n",
    "    \n",
    "    return F\n",
    "\n",
    "\n",
    "#Gitter=Construct(\"coord_0.dat\", \"mol_types_0.dat\", \"site_energies_0.dat\")"
   ]
  },
  {
   "cell_type": "code",
   "execution_count": 3,
   "id": "49ad818c",
   "metadata": {},
   "outputs": [],
   "source": [
    "class Solve:\n",
    "    def __init__(self, X):\n",
    "        self.G=X\n",
    "        self.N=self.G.order()\n",
    "        self.nR=self.G.number_of_edges()\n",
    "        \n",
    "    def resistor(self):\n",
    "        #Extract the values of the resistors from the graph and build a nR x nR matrix\n",
    "        mat=sparse.spdiags(list(nx.get_edge_attributes(self.G, \"weight\").values()), 0, self.nR, self.nR)\n",
    "        return sparse.csc_matrix(mat)\n",
    "    \n",
    "    def incidence(self):\n",
    "        #Builds the incidence matrix from the graph\n",
    "        mat= np.transpose(nx.incidence_matrix(self.G, oriented=1)) #Beachte Transpose damit die Dimensionen der networkx funktion zum paper passen\n",
    "        \n",
    "        \n",
    "        ## Siehe Codeschnipsel im ersten Beispiel falls die Orientierung ungünstig ist ##\n",
    "        \n",
    "        \n",
    "        return mat\n",
    "    \n",
    "    def voltages(self):\n",
    "        #Get the potential values from the nodes and build a vector\n",
    "        vec=np.array(list(nx.get_node_attributes(self.G, \"potential\").values()))\n",
    "        return vec\n",
    "\n",
    "    \n",
    "    def currents(self):\n",
    "        #Combines the other functions to get the currents trough the resistors\n",
    "        return - (sparse.linalg.inv(self.resistor()) @ self.incidence()) @ self.voltages()\n",
    "\n",
    "    \n",
    "#Solve(Gitter).currents()   "
   ]
  },
  {
   "cell_type": "code",
   "execution_count": 4,
   "id": "1f599c27",
   "metadata": {},
   "outputs": [],
   "source": [
    "def Orientation(G):\n",
    "    #Code Snippet that could be used for orienting the edges\n",
    "    Mat=G.incidence()\n",
    "    V=G.voltages()\n",
    "    for x in range(np.shape(Mat)[0]):\n",
    "        Y=[]\n",
    "        for y in range(np.shape(Mat)[1]):\n",
    "            if Mat[x,y] !=0:\n",
    "                Y.append(y)\n",
    "        Mat[x,Y[0]]=-np.sign(V[Y[0]]-V[Y[1]])\n",
    "        Mat[x,Y[1]]=-Mat[x,Y[0]]\n",
    "    return Mat"
   ]
  },
  {
   "cell_type": "code",
   "execution_count": 5,
   "id": "482726f4",
   "metadata": {
    "scrolled": false
   },
   "outputs": [
    {
     "data": {
      "text/plain": [
       "array([-0.04652197, -0.27476601,  0.22054761, -0.01420838,  0.12936561,\n",
       "        0.06069344, -0.06843138, -0.1599633 , -0.04871175,  0.25057646,\n",
       "       -0.17083087, -0.08658256,  0.12798222, -0.04635961, -0.05408911,\n",
       "        0.03939641,  0.14994613, -0.21965199,  0.09155032, -0.06323699,\n",
       "        0.12468943, -0.24102459,  0.04735155,  0.13223547, -0.1114012 ,\n",
       "        0.23600958, -0.14935575,  0.0341291 , -0.00076017, -0.23537913,\n",
       "        0.13824811, -0.08431975,  0.14343557, -0.07171559,  0.00452254,\n",
       "        0.0101158 ,  0.20099836, -0.19238373,  0.11930384, -0.05442987,\n",
       "        0.00360202,  0.12030944, -0.29076153,  0.19267266,  0.05255773,\n",
       "       -0.09398163, -0.0192463 ])"
      ]
     },
     "execution_count": 5,
     "metadata": {},
     "output_type": "execute_result"
    }
   ],
   "source": [
    "Gitter=Construct(\"coord_0.dat\", \"mol_types_0.dat\", \"site_energies_0.dat\")\n",
    "Setup=Solve(Gitter)\n",
    "Setup.currents()"
   ]
  },
  {
   "cell_type": "code",
   "execution_count": null,
   "id": "fdaf5144",
   "metadata": {},
   "outputs": [],
   "source": []
  }
 ],
 "metadata": {
  "kernelspec": {
   "display_name": "Python 3 (ipykernel)",
   "language": "python",
   "name": "python3"
  },
  "language_info": {
   "codemirror_mode": {
    "name": "ipython",
    "version": 3
   },
   "file_extension": ".py",
   "mimetype": "text/x-python",
   "name": "python",
   "nbconvert_exporter": "python",
   "pygments_lexer": "ipython3",
   "version": "3.9.12"
  }
 },
 "nbformat": 4,
 "nbformat_minor": 5
}

{
 "cells": [
  {
   "cell_type": "markdown",
   "id": "84476142",
   "metadata": {},
   "source": [
    "# Combination of all important functions\n",
    "This is a summary of the important functions for constructing a network and solving it for the currents.   \n",
    "First off there is the Construct function which takes the paths to the input data and builds a corresponding Networkx-Graph from it.  \n",
    "Then there ist the Solve class which takes a network as input and can then construct the matrices and vectors needed to solve for the currents.   \n",
    "In the end there is a snippet attached which can be used to orient the edges/current-directions. It takes a incidence-like matrix as input and changes the signs according to the potential landscape."
   ]
  },
  {
   "cell_type": "markdown",
   "id": "3cc6dd83",
   "metadata": {},
   "source": [
    "*Stand 28.09.23*"
   ]
  },
  {
   "cell_type": "code",
   "execution_count": 1,
   "id": "de42e356",
   "metadata": {},
   "outputs": [],
   "source": [
    "import networkx as nx\n",
    "import matplotlib.pyplot as plt\n",
    "import numpy as np\n",
    "import random\n",
    "from scipy import sparse\n",
    "import warnings\n",
    "warnings.simplefilter(action='ignore', category=FutureWarning)\n",
    "from scipy.stats import norm\n",
    "from scipy.optimize import curve_fit\n",
    "import pandas as pd"
   ]
  },
  {
   "cell_type": "code",
   "execution_count": 2,
   "id": "110712f7",
   "metadata": {},
   "outputs": [],
   "source": [
    "def Gauss(x, mu, sig, A):\n",
    "    return A  *np.exp(-0.5 * ((x-mu)/sig)**2) * 1 /(np.sqrt(2 * np.pi * sig **2))\n",
    "\n",
    "def Load(fname, Split=True):\n",
    "    a=(np.genfromtxt(fname, delimiter =\" \")).flatten()    \n",
    "    if Split==True:\n",
    "        #Lightforge uses an high but finite value (approx 300) to handle hopping onto already taken sites\n",
    "        low=a[np.abs(a)<300]\n",
    "        return low\n",
    "    else:\n",
    "        return a\n",
    "\n",
    "def FitGauss(data):\n",
    "    bin_heights, bin_borders, _ = plt.hist(data, bins='auto')\n",
    "    bin_centers = bin_borders[:-1] + np.diff(bin_borders) / 2\n",
    "    popt, _ = curve_fit(Gauss, bin_centers, bin_heights, p0=[0.01, 0.009, len(data)/5])\n",
    "    plt.close()\n",
    "    return popt, bin_borders"
   ]
  },
  {
   "cell_type": "code",
   "execution_count": 3,
   "id": "fe719ac0",
   "metadata": {},
   "outputs": [],
   "source": [
    "WDir=\"/home/oliver/notebooks/medDMR/\"\n",
    "#WDir=\"./medDMR/\"\n",
    "def Construct(Coo=WDir+\"results/material/device_data/coord_0.dat\",#\n",
    "              Typ=WDir+\"results/material/device_data/mol_types_0.dat\",#\n",
    "              Ener=WDir+\"results/material/device_data/site_energies_0.dat\",#\n",
    "              CoulombHoles=WDir+\"rates/1_100000_holes_dE_coulomb.dat\",#\n",
    "              CoulombElectrons=WDir+\"rates/1_100000_electrons_dE_coulomb.dat\",#\n",
    "              InjectionType=\"h\",# for electrode simulation there are otherwise HOMO and LUMO in the same file\n",
    "              J=0.003, T=300, Lam=0.2):\n",
    "    #Read coordinates from file\n",
    "    coords = list(map(tuple, np.genfromtxt(Coo, delimiter=\" \")))\n",
    "    #Build Graph\n",
    "    F=nx.Graph()\n",
    "    F.add_nodes_from(coords)\n",
    "    #Read Attributes\n",
    "    types = np.genfromtxt(Typ, delimiter=\" \")\n",
    "    if InjectionType==\"h\":\n",
    "        energies = np.genfromtxt(Ener, delimiter=\" \")[:,0]\n",
    "    elif InjectionType==\"e\":\n",
    "        energies = np.genfromtxt(Ener, delimiter=\" \")[:,1]\n",
    "    else:\n",
    "        energies = np.genfromtxt(Ener, delimiter=\" \")\n",
    "    #Set Attributes\n",
    "    i=0\n",
    "    for u in F.nodes():\n",
    "        F.nodes[u][\"pos\"]=u\n",
    "        F.nodes[u][\"type\"]=types[i]\n",
    "        F.nodes[u][\"potential\"]=energies[i]\n",
    "        i+=1  \n",
    "    #Construct Edges\n",
    "    F.add_edges_from(nx.geometric_edges(F, 1.9))\n",
    "    \n",
    "    #Calculate Distribution for Coulombenergydifferences\n",
    "    ele=Load(CoulombElectrons)\n",
    "    hol=Load(CoulombHoles)\n",
    "    data=np.concatenate((ele, hol))\n",
    "    popt, bin_borders=FitGauss(data)\n",
    "    \n",
    "    ## Inizializing Marcus Rates ##\n",
    "    count=0  \n",
    "    for (u, v) in F.edges(): #die beiden Endpunkte u und v der Kante \n",
    "        #from settings file\n",
    "        #J = attempt frequency (largest possible rate) =>  \"maximum ti\"\n",
    "        #Lam =  Reorganization Energy = lambda = materials => l\n",
    "        kbT=0.0000861801*T #eV\n",
    "        H_Bar = 6.58264*(10**(-16)) # Planck in eV\n",
    "        Qe = 1.602176634*(10**(-19)) # Electron charge\n",
    "        \n",
    "        ## v is start and u is end\n",
    "        deltaE=F.nodes[u][\"potential\"] - F.nodes[v][\"potential\"] + np.random.default_rng().normal(popt[0], popt[1]) \n",
    "        rate=2 * np.pi / H_Bar * np.abs(J)**2 * np.sqrt(1/(4 * Lam * kbT)) * np.exp(np.longdouble(-((Lam + deltaE)**2)/(4* Lam * kbT)))\n",
    "\n",
    "        resistance =  deltaE / (Qe * rate )\n",
    "        \n",
    "        if deltaE <0: ## flow from high potential to low\n",
    "            F.edges[u,v]['weight'] = resistance\n",
    "        else: ## reorient edge\n",
    "            # Could not just delete edge and add oposite as (Non-Di-)Graphs sort Edges by the sequence of nodes\n",
    "            # Therefore I just add a negative sign to the resistor and thereby flipping the current direction\n",
    "            F.edges[u,v]['weight'] = (-1) * resistance\n",
    "    \n",
    "    return F\n",
    "\n",
    "\n",
    "#Gitter=Construct()"
   ]
  },
  {
   "cell_type": "code",
   "execution_count": 4,
   "id": "49ad818c",
   "metadata": {},
   "outputs": [],
   "source": [
    "class Solve:\n",
    "    def __init__(self, X):\n",
    "        self.G=X\n",
    "        self.N=self.G.order()\n",
    "        self.nR=self.G.number_of_edges()\n",
    "        \n",
    "    def conductances(self):\n",
    "        #Extract the values of the resistors from the graph and build a nR x nR matrix\n",
    "        mat=sparse.spdiags(1/np.asarray(list((nx.get_edge_attributes(self.G, \"weight\").values()))), 0, self.nR, self.nR)\n",
    "        return sparse.csc_matrix(mat)\n",
    "    \n",
    "    def incidence(self):\n",
    "        #Builds the incidence matrix from the graph\n",
    "        mat= np.transpose(nx.incidence_matrix(self.G, oriented=1)) #Beachte Transpose damit die Dimensionen der networkx funktion zum paper passen\n",
    "        \n",
    "        \n",
    "        ## Siehe Codeschnipsel im ersten Beispiel falls die Orientierung ungünstig ist ##\n",
    "        \n",
    "        \n",
    "        return mat\n",
    "    \n",
    "    def voltages(self):\n",
    "        #Get the potential values from the nodes and build a vector\n",
    "        vec=np.array(list(nx.get_node_attributes(self.G, \"potential\").values()))\n",
    "        return vec\n",
    "\n",
    "    \n",
    "    def currents(self):\n",
    "        #Combines the other functions to get the currents trough the resistors\n",
    "        return - (self.conductances() @ self.incidence()) @ self.voltages()\n",
    "\n",
    "    \n",
    "#Solve(Gitter).currents()   "
   ]
  },
  {
   "cell_type": "code",
   "execution_count": 5,
   "id": "1f599c27",
   "metadata": {},
   "outputs": [],
   "source": [
    "def Orientation(G):\n",
    "    #Code Snippet that could be used for orienting the edges\n",
    "    Mat=G.incidence()\n",
    "    V=G.voltages()\n",
    "    for x in range(np.shape(Mat)[0]):\n",
    "        Y=[]\n",
    "        for y in range(np.shape(Mat)[1]):\n",
    "            if Mat[x,y] !=0:\n",
    "                Y.append(y)\n",
    "        Mat[x,Y[0]]=-np.sign(V[Y[0]]-V[Y[1]])\n",
    "        Mat[x,Y[1]]=-Mat[x,Y[0]]\n",
    "    return Mat"
   ]
  },
  {
   "cell_type": "code",
   "execution_count": 6,
   "id": "482726f4",
   "metadata": {
    "scrolled": false
   },
   "outputs": [],
   "source": [
    "Gitter=Construct()\n",
    "Setup=Solve(Gitter)\n",
    "Currents=Setup.currents()\n",
    "highXEnd=np.array(Gitter.edges())[:,:,0]==np.max(np.array(Gitter.nodes())[:,0])\n",
    "lowXEnd=np.array(Gitter.edges())[:,:,0]==np.min(np.array(Gitter.nodes())[:,0])\n",
    "highFilter=highXEnd[:,0]^highXEnd[:,1]\n",
    "lowFilter=lowXEnd[:,0]^lowXEnd[:,1]\n",
    "total_OUT=np.sum(Currents[lowFilter])\n",
    "total_IN=np.sum(Currents[highFilter])"
   ]
  },
  {
   "cell_type": "code",
   "execution_count": 7,
   "id": "90223519",
   "metadata": {},
   "outputs": [
    {
     "name": "stdout",
     "output_type": "stream",
     "text": [
      "IN\n",
      "9.8444695603732311296e-05\n",
      "OUT\n",
      "0.00042452665627496381433\n"
     ]
    }
   ],
   "source": [
    "print(\"IN\")\n",
    "print(total_IN)\n",
    "print(\"OUT\")\n",
    "print(total_OUT)"
   ]
  }
 ],
 "metadata": {
  "kernelspec": {
   "display_name": "Python 3 (ipykernel)",
   "language": "python",
   "name": "python3"
  },
  "language_info": {
   "codemirror_mode": {
    "name": "ipython",
    "version": 3
   },
   "file_extension": ".py",
   "mimetype": "text/x-python",
   "name": "python",
   "nbconvert_exporter": "python",
   "pygments_lexer": "ipython3",
   "version": "3.11.4"
  }
 },
 "nbformat": 4,
 "nbformat_minor": 5
}

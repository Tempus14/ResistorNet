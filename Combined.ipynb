{
 "cells": [
  {
   "cell_type": "markdown",
   "id": "84476142",
   "metadata": {},
   "source": [
    "# Combination of all important functions\n",
    "This is a summary of the important functions for constructing a network and solving it for the currents.   \n",
    "First off there is the Construct function which takes the paths to the input data and builds a corresponding Networkx-Graph from it.  \n",
    "Then there ist the Solve class which takes a network as input and can then construct the matrices and vectors needed to solve for the currents.   \n",
    "In the end there is a snippet attached which can be used to orient the edges/current-directions. It takes a incidence-like matrix as input and changes the signs according to the potential landscape."
   ]
  },
  {
   "cell_type": "markdown",
   "id": "3cc6dd83",
   "metadata": {},
   "source": [
    "*Stand 21.07.23*"
   ]
  },
  {
   "cell_type": "code",
   "execution_count": 1,
   "id": "de42e356",
   "metadata": {},
   "outputs": [],
   "source": [
    "import networkx as nx\n",
    "import matplotlib.pyplot as plt\n",
    "import numpy as np\n",
    "import random\n",
    "from scipy import sparse\n",
    "import warnings\n",
    "warnings.simplefilter(action='ignore', category=FutureWarning)"
   ]
  },
  {
   "cell_type": "code",
   "execution_count": 2,
   "id": "fe719ac0",
   "metadata": {},
   "outputs": [],
   "source": [
    "def Construct(Coo, Typ, Ener, J=0.003, T=300, Lam=0.2):\n",
    "    #Read coordinates from file\n",
    "    coords = list(map(tuple, np.genfromtxt(Coo, delimiter=\" \")))\n",
    "    #Build Graph\n",
    "    F=nx.Graph()\n",
    "    F.add_nodes_from(coords)\n",
    "    #Read Attributes\n",
    "    types = np.genfromtxt(Typ, delimiter=\" \")\n",
    "    energies = np.genfromtxt(Ener, delimiter=\" \")\n",
    "    #Set Attributes\n",
    "    i=0\n",
    "    for u in F.nodes():\n",
    "        F.nodes[u][\"pos\"]=u\n",
    "        F.nodes[u][\"type\"]=types[i]\n",
    "        F.nodes[u][\"potential\"]=energies[i]\n",
    "        i+=1  \n",
    "    #Construct Edges\n",
    "    F.add_edges_from(nx.geometric_edges(F, 1))\n",
    "    \n",
    "    ## Inizializing Marcus Rates ##\n",
    "   \n",
    "    for (u, v) in F.edges(): #die beiden Endpunkte u und v der Kante \n",
    "        #from settings file\n",
    "        #J = attempt frequency (largest possible rate) =>  \"maximum ti\"\n",
    "        #Lam =  Reorganization Energy = lambda = materials => l\n",
    "        kbT=0.0000861801*T #eV\n",
    "        H_Bar = 6.58264*(10**(-16)) # Planck in eV\n",
    "        Qe = 1.602176634*(10**(-19)) # Electron charge\n",
    "        \n",
    "        deltaE=F.nodes[u][\"potential\"] - F.nodes[v][\"potential\"] ## v is start and u is end\n",
    "        rate=2 * np.pi / H_Bar * np.abs(J)**2 * np.sqrt(1/(4 * Lam * kbT)) * np.exp(-((Lam + deltaE)**2)/(4* Lam * kbT))\n",
    "        resistance =  deltaE / (Qe * rate )\n",
    "        \n",
    "        if deltaE <0: ## flow from high potential to low\n",
    "            F.edges[u,v]['weight'] = resistance\n",
    "        else: ## reorient edge\n",
    "            # Could not just delete edge and add oposite as (Non-Di-)Graphs sort Edges by the sequence of nodes\n",
    "            # Therefore I just add a negative sign to the resistor and thereby flipping the current direction\n",
    "            F.edges[u,v]['weight'] = (-1) * resistance\n",
    "    \n",
    "    return F\n",
    "\n",
    "\n",
    "#Gitter=Construct(\"coord_0.dat\", \"mol_types_0.dat\", \"site_energies_0.dat\")"
   ]
  },
  {
   "cell_type": "code",
   "execution_count": 3,
   "id": "49ad818c",
   "metadata": {},
   "outputs": [],
   "source": [
    "class Solve:\n",
    "    def __init__(self, X):\n",
    "        self.G=X\n",
    "        self.N=self.G.order()\n",
    "        self.nR=self.G.number_of_edges()\n",
    "        \n",
    "    def conductances(self):\n",
    "        #Extract the values of the resistors from the graph and build a nR x nR matrix\n",
    "        mat=sparse.spdiags(1/np.asarray(list((nx.get_edge_attributes(self.G, \"weight\").values()))), 0, self.nR, self.nR)\n",
    "        return sparse.csc_matrix(mat)\n",
    "    \n",
    "    def incidence(self):\n",
    "        #Builds the incidence matrix from the graph\n",
    "        mat= np.transpose(nx.incidence_matrix(self.G, oriented=1)) #Beachte Transpose damit die Dimensionen der networkx funktion zum paper passen\n",
    "        \n",
    "        \n",
    "        ## Siehe Codeschnipsel im ersten Beispiel falls die Orientierung ungünstig ist ##\n",
    "        \n",
    "        \n",
    "        return mat\n",
    "    \n",
    "    def voltages(self):\n",
    "        #Get the potential values from the nodes and build a vector\n",
    "        vec=np.array(list(nx.get_node_attributes(self.G, \"potential\").values()))\n",
    "        return vec\n",
    "\n",
    "    \n",
    "    def currents(self):\n",
    "        #Combines the other functions to get the currents trough the resistors\n",
    "        return - (self.conductances() @ self.incidence()) @ self.voltages()\n",
    "\n",
    "    \n",
    "#Solve(Gitter).currents()   "
   ]
  },
  {
   "cell_type": "code",
   "execution_count": 4,
   "id": "1f599c27",
   "metadata": {},
   "outputs": [],
   "source": [
    "def Orientation(G):\n",
    "    #Code Snippet that could be used for orienting the edges\n",
    "    Mat=G.incidence()\n",
    "    V=G.voltages()\n",
    "    for x in range(np.shape(Mat)[0]):\n",
    "        Y=[]\n",
    "        for y in range(np.shape(Mat)[1]):\n",
    "            if Mat[x,y] !=0:\n",
    "                Y.append(y)\n",
    "        Mat[x,Y[0]]=-np.sign(V[Y[0]]-V[Y[1]])\n",
    "        Mat[x,Y[1]]=-Mat[x,Y[0]]\n",
    "    return Mat"
   ]
  },
  {
   "cell_type": "code",
   "execution_count": 5,
   "id": "482726f4",
   "metadata": {
    "scrolled": false
   },
   "outputs": [
    {
     "data": {
      "text/plain": [
       "array([ 3.31321967e-08,  7.85273230e-08, -2.74166925e-11,  1.79547102e-08,\n",
       "       -6.55817774e-10, -3.48554871e-09,  4.33005471e-08,  8.94586518e-08,\n",
       "        3.15188284e-08, -6.47881356e-12,  8.74635482e-08,  4.93540764e-08,\n",
       "       -4.04581937e-10,  2.95131612e-08,  3.36610146e-08, -5.46306294e-09,\n",
       "       -3.51094122e-10,  9.43859418e-08, -1.87061156e-09,  4.11326481e-08,\n",
       "       -5.77160145e-10,  9.38330100e-08, -5.22412401e-09, -4.15812718e-10,\n",
       "        6.49794052e-08, -1.13245237e-11,  8.26656757e-08, -6.94857766e-09,\n",
       "        1.40431708e-08,  9.21460226e-08, -3.73662175e-10,  5.10729462e-08,\n",
       "       -3.61014936e-10,  4.40337328e-08, -1.26338555e-08, -1.14247265e-08,\n",
       "       -6.68603138e-11,  9.55697657e-08, -6.69219463e-10,  3.44809054e-08,\n",
       "       -1.29419211e-08, -6.95488187e-10,  7.38639340e-08, -6.47800978e-11,\n",
       "       -4.26433491e-09,  5.89683906e-08,  1.97980807e-08])"
      ]
     },
     "execution_count": 5,
     "metadata": {},
     "output_type": "execute_result"
    }
   ],
   "source": [
    "Gitter=Construct(\"coord_0.dat\", \"mol_types_0.dat\", \"site_energies_0.dat\")\n",
    "Setup=Solve(Gitter)\n",
    "Setup.currents()"
   ]
  },
  {
   "cell_type": "code",
   "execution_count": null,
   "id": "90223519",
   "metadata": {},
   "outputs": [],
   "source": []
  }
 ],
 "metadata": {
  "kernelspec": {
   "display_name": "Python 3 (ipykernel)",
   "language": "python",
   "name": "python3"
  },
  "language_info": {
   "codemirror_mode": {
    "name": "ipython",
    "version": 3
   },
   "file_extension": ".py",
   "mimetype": "text/x-python",
   "name": "python",
   "nbconvert_exporter": "python",
   "pygments_lexer": "ipython3",
   "version": "3.11.4"
  }
 },
 "nbformat": 4,
 "nbformat_minor": 5
}

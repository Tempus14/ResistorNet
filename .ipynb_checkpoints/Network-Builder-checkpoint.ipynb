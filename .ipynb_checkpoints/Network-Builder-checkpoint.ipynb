{
 "cells": [
  {
   "cell_type": "code",
   "execution_count": 1,
   "id": "17de23c4",
   "metadata": {},
   "outputs": [],
   "source": [
    "import networkx as nx\n",
    "import numpy as np"
   ]
  },
  {
   "cell_type": "markdown",
   "id": "9a0589fb",
   "metadata": {},
   "source": [
    "# Implementation"
   ]
  },
  {
   "cell_type": "code",
   "execution_count": 2,
   "id": "7e40a9f2",
   "metadata": {
    "scrolled": true
   },
   "outputs": [],
   "source": [
    "def Construct1(Coo, Typ, Ener):\n",
    "    #Read coordinates from file\n",
    "    coords = list(map(tuple, np.genfromtxt(Coo, delimiter=\" \")))\n",
    "    #Construct Graph\n",
    "    F=nx.Graph()\n",
    "    F.add_nodes_from(coords)\n",
    "    #Read Attributes from file\n",
    "    Types = dict(zip(list(F.nodes()), np.genfromtxt(Typ, delimiter=\" \")))\n",
    "    Energies = dict(zip(list(F.nodes()), np.genfromtxt(Ener, delimiter=\" \")))\n",
    "    Pos = dict(zip(list(F.nodes()), coords))\n",
    "    #Set Attributes\n",
    "    nx.set_node_attributes(F, Pos, \"pos\")\n",
    "    nx.set_node_attributes(F, Types, \"Type\")\n",
    "    nx.set_node_attributes(F, Energies, \"Energy\")\n",
    "    #Construct Edges\n",
    "    F.add_edges_from(nx.geometric_edges(F, 1))\n",
    "    return F\n",
    "\n",
    "\n",
    "#Gitter1=Construct1(\"coord_0.dat\", \"mol_types_0.dat\", \"site_energies_0.dat\")"
   ]
  },
  {
   "cell_type": "code",
   "execution_count": 3,
   "id": "bfc32626",
   "metadata": {},
   "outputs": [],
   "source": [
    "def Construct2(Coo, Typ, Ener):\n",
    "    #Read coordinates from file\n",
    "    coords = list(map(tuple, np.genfromtxt(Coo, delimiter=\" \")))\n",
    "    #Build Graph\n",
    "    F=nx.Graph()\n",
    "    F.add_nodes_from(coords)\n",
    "    #Read Attributes\n",
    "    types = np.genfromtxt(Typ, delimiter=\" \")\n",
    "    energies = np.genfromtxt(Ener, delimiter=\" \")\n",
    "    #Set Attributes\n",
    "    i=0\n",
    "    for u in F.nodes():\n",
    "        F.nodes[u][\"pos\"]=u\n",
    "        F.nodes[u][\"Type\"]=types[i]\n",
    "        F.nodes[u][\"Energy\"]=energies[i]\n",
    "        i+=1  \n",
    "    #Construct Edges\n",
    "    F.add_edges_from(nx.geometric_edges(F, 1))\n",
    "    return F\n",
    "\n",
    "\n",
    "#Gitter1=Construct2(\"coord_0.dat\", \"mol_types_0.dat\", \"site_energies_0.dat\")"
   ]
  },
  {
   "cell_type": "markdown",
   "id": "549578bf",
   "metadata": {},
   "source": [
    "# Laufzeit Tests"
   ]
  },
  {
   "cell_type": "markdown",
   "id": "bcfc2c98",
   "metadata": {},
   "source": [
    "#### Die Tests wurden mit realen Daten von Lightforge bei einem 50x50x50 Grid gemacht."
   ]
  },
  {
   "cell_type": "markdown",
   "id": "9d1263ad",
   "metadata": {},
   "source": [
    "%%timeit -n 50\n",
    "coords = list(map(tuple, np.genfromtxt(\"coord_0.dat\", delimiter=\" \")))\n",
    "\n",
    "F1=nx.Graph()\n",
    "F1.add_nodes_from(coords)\n",
    "\n",
    "Types = dict(zip(list(F1.nodes()), np.genfromtxt(\"mol_types_0.dat\", delimiter=\" \")))\n",
    "Energies = dict(zip(list(F1.nodes()), np.genfromtxt(\"site_energies_0.dat\", delimiter=\" \")))\n",
    "Pos = dict(zip(list(F1.nodes()), coords))\n",
    "\n",
    "nx.set_node_attributes(F1, Pos, \"pos\")\n",
    "nx.set_node_attributes(F1, Types, \"Type\")\n",
    "nx.set_node_attributes(F1, Energies, \"Energy\")"
   ]
  },
  {
   "cell_type": "markdown",
   "id": "a2798156",
   "metadata": {},
   "source": [
    "### Mit Networkx Funktion\n",
    "#### 1.76 s ± 69.7 ms per loop (mean ± std. dev. of 7 runs, 50 loops each)"
   ]
  },
  {
   "cell_type": "markdown",
   "id": "09d50e25",
   "metadata": {},
   "source": [
    "%%timeit -n 50\n",
    "coords = list(map(tuple, np.genfromtxt(\"coord_0.dat\", delimiter=\" \")))\n",
    "\n",
    "F2=nx.Graph()\n",
    "F2.add_nodes_from(coords)\n",
    "\n",
    "\n",
    "types = np.genfromtxt(\"mol_types_0.dat\", delimiter=\" \")\n",
    "energies = np.genfromtxt(\"site_energies_0.dat\", delimiter=\" \")\n",
    "\n",
    "i=0\n",
    "for u in F2.nodes():\n",
    "    F2.nodes[u][\"pos\"]=u\n",
    "    F2.nodes[u][\"Type\"]=types[i]\n",
    "    F2.nodes[u][\"Energy\"]=energies[i]\n",
    "    i+=1"
   ]
  },
  {
   "cell_type": "markdown",
   "id": "edd206ad",
   "metadata": {},
   "source": [
    "### Mit Schleife\n",
    "#### 1.59 s ± 58.9 ms per loop (mean ± std. dev. of 7 runs, 50 loops each)"
   ]
  },
  {
   "cell_type": "markdown",
   "id": "3f6c4f18",
   "metadata": {},
   "source": [
    "## Teste vollständige Implemention"
   ]
  },
  {
   "cell_type": "markdown",
   "id": "d1aa082c",
   "metadata": {},
   "source": [
    "%%timeit -n 50\n",
    "Gitter1=Construct1(\"coord_0.dat\", \"mol_types_0.dat\", \"site_energies_0.dat\")"
   ]
  },
  {
   "cell_type": "markdown",
   "id": "2accc87d",
   "metadata": {},
   "source": [
    "### Mit Networkx Funktion\n",
    "#### 3.82 s ± 133 ms per loop (mean ± std. dev. of 7 runs, 50 loops each)"
   ]
  },
  {
   "cell_type": "markdown",
   "id": "08af18c6",
   "metadata": {},
   "source": [
    "%%timeit -n 50\n",
    "Gitter2=Construct2(\"coord_0.dat\", \"mol_types_0.dat\", \"site_energies_0.dat\")"
   ]
  },
  {
   "cell_type": "markdown",
   "id": "b4fbb974",
   "metadata": {},
   "source": [
    "### Mit Schleife\n",
    "#### 3.52 s ± 161 ms per loop (mean ± std. dev. of 7 runs, 50 loops each)"
   ]
  },
  {
   "cell_type": "markdown",
   "id": "231435bc",
   "metadata": {},
   "source": [
    "### Überprüfe Gleichheit"
   ]
  },
  {
   "cell_type": "code",
   "execution_count": 4,
   "id": "1a5d29ae",
   "metadata": {},
   "outputs": [],
   "source": [
    "Gitter1=Construct1(\"coord_0.dat\", \"mol_types_0.dat\", \"site_energies_0.dat\")\n",
    "Gitter2=Construct2(\"coord_0.dat\", \"mol_types_0.dat\", \"site_energies_0.dat\")"
   ]
  },
  {
   "cell_type": "code",
   "execution_count": 5,
   "id": "5a3feebb",
   "metadata": {},
   "outputs": [
    {
     "data": {
      "text/plain": [
       "True"
      ]
     },
     "execution_count": 5,
     "metadata": {},
     "output_type": "execute_result"
    }
   ],
   "source": [
    "Gitter1.nodes(data=True)==Gitter2.nodes(data=True)"
   ]
  },
  {
   "cell_type": "code",
   "execution_count": 6,
   "id": "57849d7a",
   "metadata": {},
   "outputs": [
    {
     "data": {
      "text/plain": [
       "False"
      ]
     },
     "execution_count": 6,
     "metadata": {},
     "output_type": "execute_result"
    }
   ],
   "source": [
    "Gitter1.edges(data=True)==Gitter2.edges(data=True)"
   ]
  },
  {
   "cell_type": "code",
   "execution_count": 7,
   "id": "0a58f092",
   "metadata": {},
   "outputs": [
    {
     "data": {
      "text/plain": [
       "True"
      ]
     },
     "execution_count": 7,
     "metadata": {},
     "output_type": "execute_result"
    }
   ],
   "source": [
    "Gitter1.edges(data=False)==Gitter2.edges(data=False)"
   ]
  },
  {
   "cell_type": "code",
   "execution_count": 8,
   "id": "0dbadd04",
   "metadata": {},
   "outputs": [
    {
     "data": {
      "text/plain": [
       "0"
      ]
     },
     "execution_count": 8,
     "metadata": {},
     "output_type": "execute_result"
    }
   ],
   "source": [
    "c=0\n",
    "for (u,v) in Gitter2.edges():\n",
    "    if (u,v) not in Gitter1.edges():\n",
    "        c+=1\n",
    "c"
   ]
  },
  {
   "cell_type": "markdown",
   "id": "93323f7f",
   "metadata": {},
   "source": [
    "### Versuche herauszufinden warum das verschieden sein soll"
   ]
  },
  {
   "cell_type": "code",
   "execution_count": 9,
   "id": "26a4047c",
   "metadata": {},
   "outputs": [],
   "source": [
    "Test=nx.hypercube_graph(3)\n",
    "for u in Test.nodes():\n",
    "    Test.nodes[u][\"pos\"]=u\n",
    "Test.add_edges_from(nx.geometric_edges(Test, 1))\n",
    "\n",
    "Test2=nx.hypercube_graph(3)\n",
    "for u in Test2.nodes():\n",
    "    Test2.nodes[u][\"pos\"]=u\n",
    "Test2.add_edges_from(nx.geometric_edges(Test2, 1))"
   ]
  },
  {
   "cell_type": "code",
   "execution_count": 10,
   "id": "232fb9fd",
   "metadata": {},
   "outputs": [
    {
     "name": "stdout",
     "output_type": "stream",
     "text": [
      "False\n",
      "True\n"
     ]
    }
   ],
   "source": [
    "print(Test.edges(data=True)==Test2.edges(data=True))\n",
    "print(Test.edges(data=False)==Test2.edges(data=False))"
   ]
  },
  {
   "cell_type": "markdown",
   "id": "6d6fe8f6",
   "metadata": {},
   "source": [
    "Keine Ahnung warum Networkx das hier als falsch versteht."
   ]
  },
  {
   "cell_type": "code",
   "execution_count": null,
   "id": "c2cab6c6",
   "metadata": {},
   "outputs": [],
   "source": []
  }
 ],
 "metadata": {
  "kernelspec": {
   "display_name": "Python 3 (ipykernel)",
   "language": "python",
   "name": "python3"
  },
  "language_info": {
   "codemirror_mode": {
    "name": "ipython",
    "version": 3
   },
   "file_extension": ".py",
   "mimetype": "text/x-python",
   "name": "python",
   "nbconvert_exporter": "python",
   "pygments_lexer": "ipython3",
   "version": "3.10.10"
  }
 },
 "nbformat": 4,
 "nbformat_minor": 5
}

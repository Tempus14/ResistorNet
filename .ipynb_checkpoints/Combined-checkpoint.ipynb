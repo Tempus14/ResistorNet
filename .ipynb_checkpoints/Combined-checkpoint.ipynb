{
 "cells": [
  {
   "cell_type": "markdown",
   "id": "84476142",
   "metadata": {},
   "source": [
    "# Combination of all important functions\n",
    "This is a summary of the important functions for constructing a network and solving it for the currents.   \n",
    "First off there is the Construct function which takes the paths to the input data and builds a corresponding Networkx-Graph from it.  \n",
    "Then there ist the Solve class which takes a network as input and can then construct the matrices and vectors needed to solve for the currents.   \n",
    "In the end there is a snippet attached which can be used to orient the edges/current-directions. It takes a incidence-like matrix as input and changes the signs according to the potential landscape."
   ]
  },
  {
   "cell_type": "markdown",
   "id": "3cc6dd83",
   "metadata": {},
   "source": [
    "*Stand 10.07.23*"
   ]
  },
  {
   "cell_type": "code",
   "execution_count": 1,
   "id": "de42e356",
   "metadata": {},
   "outputs": [],
   "source": [
    "import networkx as nx\n",
    "import matplotlib.pyplot as plt\n",
    "import numpy as np\n",
    "import random\n",
    "from scipy import sparse\n",
    "import warnings\n",
    "warnings.simplefilter(action='ignore', category=FutureWarning)"
   ]
  },
  {
   "cell_type": "code",
   "execution_count": 2,
   "id": "fe719ac0",
   "metadata": {},
   "outputs": [],
   "source": [
    "def Construct(Coo, Typ, Ener):\n",
    "    #Read coordinates from file\n",
    "    coords = list(map(tuple, np.genfromtxt(Coo, delimiter=\" \")))\n",
    "    #Build Graph\n",
    "    F=nx.Graph()\n",
    "    F.add_nodes_from(coords)\n",
    "    #Read Attributes\n",
    "    types = np.genfromtxt(Typ, delimiter=\" \")\n",
    "    energies = np.genfromtxt(Ener, delimiter=\" \")\n",
    "    #Set Attributes\n",
    "    i=0\n",
    "    for u in F.nodes():\n",
    "        F.nodes[u][\"pos\"]=u\n",
    "        F.nodes[u][\"type\"]=types[i]\n",
    "        F.nodes[u][\"potential\"]=energies[i]\n",
    "        i+=1  \n",
    "    #Construct Edges\n",
    "    F.add_edges_from(nx.geometric_edges(F, 1))\n",
    "    \n",
    "    ## Inizializing with random values until access to resistivity values ##\n",
    "    R_0=1\n",
    "    sigmaR=0.05\n",
    "    for (u, v) in F.edges(): #die beiden Endpunkte u und v der Kante\n",
    "        F.edges[u,v]['weight'] = random.normalvariate(R_0, sigmaR)\n",
    "        \n",
    "    ## These Edges should maybe be oriented by using some variation of the code in the end ##\n",
    "    \n",
    "    return F\n",
    "\n",
    "\n",
    "#Gitter=Construct(\"coord_0.dat\", \"mol_types_0.dat\", \"site_energies_0.dat\")"
   ]
  },
  {
   "cell_type": "code",
   "execution_count": 3,
   "id": "49ad818c",
   "metadata": {},
   "outputs": [],
   "source": [
    "class Solve:\n",
    "    def __init__(self, X):\n",
    "        self.G=X\n",
    "        self.N=self.G.order()\n",
    "        self.nR=self.G.number_of_edges()\n",
    "        \n",
    "    def resistor(self):\n",
    "        #Extract the values of the resistors from the graph and build a nR x nR matrix\n",
    "        mat=sparse.spdiags(list(nx.get_edge_attributes(self.G, \"weight\").values()), 0, self.nR, self.nR)\n",
    "        return sparse.csc_matrix(mat)\n",
    "    \n",
    "    def incidence(self):\n",
    "        #Builds the incidence matrix from the graph\n",
    "        mat= np.transpose(nx.incidence_matrix(self.G, oriented=1)) #Beachte Transpose damit die Dimensionen der networkx funktion zum paper passen\n",
    "        \n",
    "        \n",
    "        ## Siehe Codeschnipsel im ersten Beispiel falls die Orientierung ungünstig ist ##\n",
    "        \n",
    "        \n",
    "        return mat\n",
    "    \n",
    "    def voltages(self):\n",
    "        #Get the potential values from the nodes and build a vector\n",
    "        vec=np.array(list(nx.get_node_attributes(self.G, \"potential\").values()))\n",
    "        return vec\n",
    "\n",
    "    \n",
    "    def currents(self):\n",
    "        #Combines the other functions to get the currents trough the resistors\n",
    "        return - (sparse.linalg.inv(self.resistor()) @ self.incidence()) @ self.voltages()\n",
    "\n",
    "    \n",
    "#Solve(Gitter).currents()   "
   ]
  },
  {
   "cell_type": "code",
   "execution_count": 4,
   "id": "1f599c27",
   "metadata": {},
   "outputs": [],
   "source": [
    "def Orientation(G):\n",
    "    #Code Snippet that could be used for orienting the edges\n",
    "    Mat=G.incidence()\n",
    "    V=G.voltages()\n",
    "    for x in range(np.shape(Mat)[0]):\n",
    "        Y=[]\n",
    "        for y in range(np.shape(Mat)[1]):\n",
    "            if Mat[x,y] !=0:\n",
    "                Y.append(y)\n",
    "        Mat[x,Y[0]]=-np.sign(V[Y[0]]-V[Y[1]])\n",
    "        Mat[x,Y[1]]=-Mat[x,Y[0]]\n",
    "    return Mat"
   ]
  },
  {
   "cell_type": "code",
   "execution_count": 5,
   "id": "482726f4",
   "metadata": {
    "scrolled": false
   },
   "outputs": [
    {
     "data": {
      "text/plain": [
       "array([-0.05145309, -0.26427776,  0.22550261, -0.01336778,  0.11247504,\n",
       "        0.06356894, -0.06805456, -0.17519647, -0.04938566,  0.2532406 ,\n",
       "       -0.15527754, -0.07939242,  0.13216441, -0.04244922, -0.05028308,\n",
       "        0.04380943,  0.14671777, -0.2104696 ,  0.08438811, -0.06559858,\n",
       "        0.11500985, -0.22500482,  0.04334962,  0.14352758, -0.09898899,\n",
       "        0.22583052, -0.13604571,  0.03210806, -0.00077283, -0.22813222,\n",
       "        0.13590819, -0.08271652,  0.14070021, -0.07150226,  0.0042203 ,\n",
       "        0.01002931,  0.18469762, -0.19037517,  0.11522349, -0.05582627,\n",
       "        0.00362958,  0.11281252, -0.2790219 ,  0.18907446,  0.0543554 ,\n",
       "       -0.09448127, -0.01751355])"
      ]
     },
     "execution_count": 5,
     "metadata": {},
     "output_type": "execute_result"
    }
   ],
   "source": [
    "Gitter=Construct(\"coord_0.dat\", \"mol_types_0.dat\", \"site_energies_0.dat\")\n",
    "Setup=Solve(Gitter)\n",
    "Setup.currents()"
   ]
  },
  {
   "cell_type": "code",
   "execution_count": null,
   "id": "c6ceb3af",
   "metadata": {},
   "outputs": [],
   "source": []
  }
 ],
 "metadata": {
  "kernelspec": {
   "display_name": "Python 3 (ipykernel)",
   "language": "python",
   "name": "python3"
  },
  "language_info": {
   "codemirror_mode": {
    "name": "ipython",
    "version": 3
   },
   "file_extension": ".py",
   "mimetype": "text/x-python",
   "name": "python",
   "nbconvert_exporter": "python",
   "pygments_lexer": "ipython3",
   "version": "3.10.10"
  }
 },
 "nbformat": 4,
 "nbformat_minor": 5
}

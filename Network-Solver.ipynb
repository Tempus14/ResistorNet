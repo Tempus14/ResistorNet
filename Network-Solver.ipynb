{
 "cells": [
  {
   "cell_type": "markdown",
   "id": "10d324c7",
   "metadata": {},
   "source": [
    "# Network Solver"
   ]
  },
  {
   "cell_type": "markdown",
   "id": "e53f1718",
   "metadata": {},
   "source": [
    "Das Dokument war der Versuch drei verschiedenen Ansätzen folgend Algorithmen zu implementieren um die Stöme über Widerstände zu berechnen, wenn Netzwerkgeometrie, Knotenpotentiale und Widerstandswerte bekannt sind. Es sollte sich später herausstellen, dass die zwei Ansätze am Ende des Dokuments nicht dafür geeignet waren, oder nicht ausreichend beschrieben waren."
   ]
  },
  {
   "cell_type": "markdown",
   "id": "e98745b5",
   "metadata": {},
   "source": [
    "### Gedanken zum Initialisieren des Netzwerkes\n",
    "Die Beschaffenheit des Problems aus Edges, Nodes und Flows legt die Betrachtung als Graph nahe und damit die Implementierung es Netzes mit Networkx"
   ]
  },
  {
   "cell_type": "code",
   "execution_count": 1,
   "id": "0d4d9d9f",
   "metadata": {},
   "outputs": [],
   "source": [
    "import networkx as nx\n",
    "import matplotlib.pyplot as plt\n",
    "import copy, random\n",
    "import numpy as np\n",
    "from scipy import sparse\n",
    "import warnings\n",
    "warnings.simplefilter(action='ignore', category=FutureWarning)"
   ]
  },
  {
   "cell_type": "code",
   "execution_count": 2,
   "id": "562e80d7",
   "metadata": {},
   "outputs": [],
   "source": [
    "#Initialize Lattice\n",
    "x1=2\n",
    "x2=2\n",
    "x3=2\n",
    "G = nx.grid_graph(dim=(x1,x2))\n",
    "G3 = nx.grid_graph(dim=(x1,x2,x3)) #3D Grid\n",
    "#Adjacency Matrix\n",
    "A=nx.adjacency_matrix(G, dtype = \"float32\")\n",
    "A3=nx.adjacency_matrix(G3, dtype = \"float32\")"
   ]
  },
  {
   "cell_type": "code",
   "execution_count": 3,
   "id": "97bf1164",
   "metadata": {},
   "outputs": [],
   "source": [
    "#nx.draw_networkx(G3)"
   ]
  },
  {
   "cell_type": "markdown",
   "id": "6a10a86c",
   "metadata": {},
   "source": [
    "**Note**   \n",
    "Die Darstellung der Graphen ist häufig verzogen, stabilisiert sich aber nach Mehrfachausführung einer Zelle häufig. Des Weiteren wird die Ästetik des Graphen negativ durch das Zuweisen von Widerstände beeinflusst, weil der Plot versucht diese Verhältnismäßigkeiten wiederzugeben"
   ]
  },
  {
   "cell_type": "markdown",
   "id": "7c10000a",
   "metadata": {},
   "source": [
    "**Random Values**   \n",
    "Auch wenn das bisher nirgendwo im Code explizit verwendet wurde, wollte ich verschiedene Potentiale und Widerstände haben und habe deshalb mit Gauss-verteilten Werten angefangen."
   ]
  },
  {
   "cell_type": "code",
   "execution_count": 4,
   "id": "f5a6a4f5",
   "metadata": {},
   "outputs": [],
   "source": [
    "#Randomize Resistances\n",
    "R_0=1\n",
    "sigmaR=0.05\n",
    "\n",
    "for (u, v) in G.edges(): #die beiden Endpunkte u und v der Kante\n",
    "    G.edges[u,v]['weight'] = random.normalvariate(R_0, sigmaR)\n",
    "\n",
    "R=nx.adjacency_matrix(G, dtype = \"float32\").todense()"
   ]
  },
  {
   "cell_type": "code",
   "execution_count": 5,
   "id": "58e69706",
   "metadata": {},
   "outputs": [],
   "source": [
    "#Randomize 3D Resistances\n",
    "R_0=1\n",
    "sigmaR=0.05\n",
    "\n",
    "for (u, v) in G3.edges():\n",
    "    G3.edges[u,v]['weight'] = random.normalvariate(R_0, sigmaR)\n",
    "    #G3.edges[u,v]['weight'] = 1\n",
    "\n",
    "R3=nx.adjacency_matrix(G3, dtype = \"float32\").todense()"
   ]
  },
  {
   "cell_type": "code",
   "execution_count": 6,
   "id": "ab94cc8a",
   "metadata": {},
   "outputs": [],
   "source": [
    "#Randomize 2D Potentials\n",
    "P_0=0\n",
    "sigmaP=0.5\n",
    "\n",
    "for (i,j) in G.nodes: #Koordinaten im Gittter\n",
    "    G.nodes[i,j]['potential'] = random.normalvariate(P_0, sigmaP)\n",
    "labels = nx.get_node_attributes(G, 'potential') "
   ]
  },
  {
   "cell_type": "code",
   "execution_count": 7,
   "id": "19ea3fb1",
   "metadata": {},
   "outputs": [],
   "source": [
    "#Randomize 3D Potentials\n",
    "P_0=0\n",
    "sigmaP=0.5\n",
    "\n",
    "for (i,j,k) in G3.nodes:\n",
    "    G3.nodes[i,j,k]['potential'] = random.normalvariate(P_0, sigmaP)\n",
    "labels3 = nx.get_node_attributes(G3, 'potential') "
   ]
  },
  {
   "cell_type": "code",
   "execution_count": 8,
   "id": "934c95dc",
   "metadata": {},
   "outputs": [],
   "source": [
    "#nx.draw_networkx(G3, labels=labels3)"
   ]
  },
  {
   "cell_type": "code",
   "execution_count": 9,
   "id": "6d1b80c4",
   "metadata": {},
   "outputs": [],
   "source": [
    "#print(R3)"
   ]
  },
  {
   "cell_type": "markdown",
   "id": "e6315e05",
   "metadata": {},
   "source": [
    "## Lösungsansätze aus verschiedenen Papern\n",
    "Es folgen jeweils eine kurze Zusammenfassung des relavanten Teils aus den Papern und dann der Versuch das zu implementieren"
   ]
  },
  {
   "cell_type": "markdown",
   "id": "6f2577e4",
   "metadata": {},
   "source": [
    "### Following the Paper: Efficient Methods for Large Resistor Networks - Rommes und Schilders 2010"
   ]
  },
  {
   "cell_type": "markdown",
   "id": "de1a3b5c",
   "metadata": {},
   "source": [
    "Das Gleichungssystem kann formuliert werden als\n",
    "$$\n",
    "\\left[\\begin{array}{cc}\n",
    "R & P \\\\\n",
    "-P^T & 0\n",
    "\\end{array}\\right]\\left[\\begin{array}{c}\n",
    "\\mathbf{i}_b \\\\\n",
    "\\mathbf{v}\n",
    "\\end{array}\\right]=\\left[\\begin{array}{l}\n",
    "\\mathbf{0} \\\\\n",
    "\\mathbf{i}_n\n",
    "\\end{array}\\right]\n",
    "$$\n",
    "mit Widerstandsmatrix $R $ (Widerstände auf der Hauptdiagonalen) und der Inzidenzmatrix $P$. Für uns relevant sind die Widerstandsströme $ \\mathbf{i}_b $.   \n",
    "Mit Hilfe der Ersetzung $i_b=$ $-R^{-1} P \\mathbf{v}$ führt das zu der Formulierung\n",
    "$$\n",
    "G \\mathbf{v}=\\mathbf{i}_n\n",
    "$$\n",
    "mit der Leitfähigkeitsmatrix $G=P^T R^{-1} P \\in \\mathbb{R}^{n \\times n}$. Nach Aufteilung der Knoten in innenliegende und außenliegende (welche auch Strom aufnehmen können):\n",
    "$$\n",
    "\\left[\\begin{array}{ll}\n",
    "G_{11} & G_{12} \\\\\n",
    "G_{12}^T & G_{22}\n",
    "\\end{array}\\right]\\left[\\begin{array}{l}\n",
    "\\mathbf{v}_e \\\\\n",
    "\\mathbf{v}_i\n",
    "\\end{array}\\right]=\\left[\\begin{array}{l}\n",
    "B \\\\\n",
    "0\n",
    "\\end{array}\\right] \\mathbf{i}_e\n",
    "$$\n",
    "mit externen Strömen $\\mathbf{i}_e$.   \n",
    "Ein Knoten muss als Referenz genommen werden. Das Potential wird auf Null gesetzt und alle zugehörigen Gleichungen werden entfernt. (Die resultierende Matrix wird weiterhin $G$ genannt.)"
   ]
  },
  {
   "cell_type": "markdown",
   "id": "e1ba2494",
   "metadata": {},
   "source": [
    "Um das Problem zu lösen wird $G$ mittels Cholesky Zerlegung in zwei Dreiecksmatrizen zerlegt $G=LL^T$. (Das kann schneller gemacht werden mit AMD.) Die Spannungen werden berechnet durch $ \\mathbf{v}=G^{-1} \\mathbf{i}_n$ wobei das schrittweise durch $L \\mathbf{x}=\\mathbf{i}_n$ und $L^{T} \\mathbf{v}=\\mathbf{x}$. Schließlich wird der Strom durch $-R^{-1} P \\mathbf{v}=i_b$ berechnet."
   ]
  },
  {
   "cell_type": "markdown",
   "id": "c26965d8",
   "metadata": {},
   "source": [
    "#### Bemerkung:\n",
    "*Für die Berechnung der Ströme über Widerstände sind also konkret die Widerstandswerte, die Inzidenzmatrix und die Potentialdifferenz zwischen Knoten nötig. Der Rest ist nötig um die Potentialwerte an den Knoten zu berechnen. Bei uns sind diese Werte allerdings bekannt. Das vereinfacht das Problem wahrscheinlich immens, allerdings müssen wir nochmal darüber nachdenken ob KVL für unsere Potenitale gerechtfertigt ist*"
   ]
  },
  {
   "cell_type": "markdown",
   "id": "5bddc192",
   "metadata": {},
   "source": [
    "#### Bemerkung 2:\n",
    "*Da das elektrische Feld ein konservatives Feld ist, sollte Kirchhoffs-Voltage-Law gelten.*"
   ]
  },
  {
   "cell_type": "code",
   "execution_count": 10,
   "id": "14e0fb82",
   "metadata": {},
   "outputs": [],
   "source": [
    "class Rommes:\n",
    "    def __init__(self, X):\n",
    "        self.G=X\n",
    "        self.N=self.G.order()\n",
    "        self.nR=self.G.number_of_edges()\n",
    "        \n",
    "    def resistor(self):\n",
    "        #Extract the values of the resistors from the graph and build a nR x nR matrix\n",
    "        #mat=sparse.csr_matrix((self.nR, self.nR))\n",
    "        #mat.setdiag(list(nx.get_edge_attributes(self.G, \"weight\").values()))\n",
    "        \n",
    "        mat=sparse.spdiags(list(nx.get_edge_attributes(self.G, \"weight\").values()), 0, self.nR, self.nR)\n",
    "        \n",
    "        return sparse.csc_matrix(mat)\n",
    "    \n",
    "    def incidence(self):\n",
    "        #Builds the incidence matrix from the graph\n",
    "        mat= np.transpose(nx.incidence_matrix(self.G, oriented=1)) \n",
    "        #Beachte Transpose damit die Dimensionen der networkx funktion zum paper passen\n",
    "        \n",
    "        \n",
    "        #Siehe Codeschnipsel im ersten Beispiel falls die Orientierung ungünstig ist\n",
    "        \n",
    "        \n",
    "        return mat\n",
    "    \n",
    "    def voltages(self):\n",
    "        #Get the potential values from the nodes and build a vector\n",
    "        vec=np.array(list(nx.get_node_attributes(self.G, \"potential\").values()))\n",
    "        return vec\n",
    "    \n",
    "        \n",
    "        ###\n",
    "        #Beachte: Dimension der Benennung in G => G.nodes[i], G.nodes[i,j]\n",
    "        \n",
    "        #vec=np.zeros(self.N)\n",
    "        #i=0\n",
    "        #for (u,v) in self.G.nodes:\n",
    "        #    vec[i]=self.G.nodes[u,v]['potential']\n",
    "        #    i+=1\n",
    "        #return vec\n",
    "    \n",
    "    def currents(self):\n",
    "        #Combines the other functions to get the currents trough the resistors\n",
    "        return - (sparse.linalg.inv(self.resistor()) @ self.incidence()) @ self.voltages()\n",
    "        #return - np.matmul(np.matmul(sparse.linalg.inv(self.resistor()) , self.incidence()) , self.voltages())"
   ]
  },
  {
   "cell_type": "markdown",
   "id": "e1a8eb20",
   "metadata": {},
   "source": [
    "#### 3D Code"
   ]
  },
  {
   "cell_type": "markdown",
   "id": "8f52cea7",
   "metadata": {},
   "source": [
    "Ich dachte zuerst,dass es einer Anpassung für 3D bedürfen würde, aber weil die Inzidenzmatrix clever konstruiert ist, ist die Dimension des Graphen nicht relevant."
   ]
  },
  {
   "cell_type": "markdown",
   "id": "aa4cdfbf",
   "metadata": {},
   "source": [
    "#### Rechteckiges Beispiel"
   ]
  },
  {
   "cell_type": "code",
   "execution_count": 11,
   "id": "21d73211",
   "metadata": {
    "scrolled": false
   },
   "outputs": [
    {
     "data": {
      "image/png": "[encoded data removed]",
      "text/plain": [
       "<Figure size 640x480 with 1 Axes>"
      ]
     },
     "metadata": {},
     "output_type": "display_data"
    }
   ],
   "source": [
    "#see https://www.electronics-tutorials.ws/dccircuits/dcp_6.html\n",
    "W=nx.DiGraph()\n",
    "W.add_edges_from([(0,1),(0,3),(2,0),(1,2),(3,2)])\n",
    "\n",
    "nx.draw_networkx(W)\n",
    "\n",
    "W.add_nodes_from(range(4))\n",
    "W.nodes[0]['potential'] = 0\n",
    "W.nodes[1]['potential'] = 10\n",
    "W.nodes[2]['potential'] = 11.44\n",
    "W.nodes[3]['potential'] = 20\n",
    "\n",
    "for (u, v) in W.edges():\n",
    "    W.edges[u,v]['weight'] = 10000\n",
    "W.edges[1,2]['weight'] = 10\n",
    "W.edges[3,2]['weight'] = 20\n",
    "W.edges[2,0]['weight'] = 40\n"
   ]
  },
  {
   "cell_type": "code",
   "execution_count": 12,
   "id": "af586ead",
   "metadata": {},
   "outputs": [
    {
     "data": {
      "text/plain": [
       "True"
      ]
     },
     "execution_count": 12,
     "metadata": {},
     "output_type": "execute_result"
    }
   ],
   "source": [
    "Tut=Rommes(W)\n",
    "np.abs(Tut.currents()[4]) == 0.286 #Vergleich mit \"Musterlösung\""
   ]
  },
  {
   "cell_type": "markdown",
   "id": "3e52d71c",
   "metadata": {},
   "source": [
    "Der Wert aus er Musterlösung wird reproduziert (das Vorzeichen stimmt bei der ersten Implementierung aber noch nicht - dazu später mehr). Ich wollte nur um ein Gefühl zu bekommen auch die anderen Größen ausgeben lassen:"
   ]
  },
  {
   "cell_type": "code",
   "execution_count": 13,
   "id": "38b0be5c",
   "metadata": {},
   "outputs": [
    {
     "data": {
      "text/plain": [
       "array([ 0.  , 10.  , 20.  , 11.44])"
      ]
     },
     "execution_count": 13,
     "metadata": {},
     "output_type": "execute_result"
    }
   ],
   "source": [
    "Tut.voltages()"
   ]
  },
  {
   "cell_type": "code",
   "execution_count": 14,
   "id": "07713698",
   "metadata": {},
   "outputs": [
    {
     "data": {
      "text/plain": [
       "<5x5 sparse matrix of type '<class 'numpy.int32'>'\n",
       "\twith 5 stored elements in Compressed Sparse Column format>"
      ]
     },
     "execution_count": 14,
     "metadata": {},
     "output_type": "execute_result"
    }
   ],
   "source": [
    "Tut.resistor()"
   ]
  },
  {
   "cell_type": "code",
   "execution_count": 15,
   "id": "0463e941",
   "metadata": {},
   "outputs": [
    {
     "data": {
      "text/plain": [
       "<5x4 sparse array of type '<class 'numpy.float64'>'\n",
       "\twith 10 stored elements in Compressed Sparse Row format>"
      ]
     },
     "execution_count": 15,
     "metadata": {},
     "output_type": "execute_result"
    }
   ],
   "source": [
    "Tut.incidence()"
   ]
  },
  {
   "cell_type": "markdown",
   "id": "7c56058f",
   "metadata": {},
   "source": [
    "Ich habe mich gefragt, wie die Matrix zu verstehen ist. Nach ein bisschen nachdenken ergibt sich   \n",
    "**Struktur der Inzidenzmatrix:**   \n",
    "[Widerstand 1]   \n",
    "[Widerstand 2]   \n",
    "[Widerstand 3]     \n",
    "bzw.   \n",
    "[N N N N]   \n",
    "[O O O O]   \n",
    "[D D D D]   \n",
    "[E E E E]   \n",
    "[1 2 3 4]   "
   ]
  },
  {
   "cell_type": "markdown",
   "id": "5458711b",
   "metadata": {},
   "source": [
    "(Damit ist die Definition genau anders herum wie in der incidence_matrix Funktion von Networkx - deshalb die Transposition.)"
   ]
  },
  {
   "cell_type": "code",
   "execution_count": 16,
   "id": "6a92caad",
   "metadata": {},
   "outputs": [
    {
     "data": {
      "text/plain": [
       "array([-0.001, -0.002, -0.144,  0.428,  0.286])"
      ]
     },
     "execution_count": 16,
     "metadata": {},
     "output_type": "execute_result"
    }
   ],
   "source": [
    "#Alle Ströme\n",
    "Tut.currents()"
   ]
  },
  {
   "cell_type": "markdown",
   "id": "7c97c284",
   "metadata": {},
   "source": [
    "Im Beispiel wird der richtige Zahlenwert für die gesuchte Größe produziert, das Vorzeichen stimmt aber (in der ersten Implementierung) nicht, da die Inzidenzmatrix keine VZ vergibt und es musste ein sehr hoher (aber endlicher) Widerstand über die Spannungsquellen angenommen werden, weil das System diese Bauelement nicht kennt. Auch stimmen die anderen Ströme nicht mit den Werten aus anderen Rechnungen überein."
   ]
  },
  {
   "cell_type": "markdown",
   "id": "11eaded5",
   "metadata": {},
   "source": [
    "**Idee** *Vielleicht kann der Fehler in der Inzidenzmatrix behoben werden, wenn die VZ aus Potentialdifferenzen abgeschätzt wird.*"
   ]
  },
  {
   "cell_type": "markdown",
   "id": "854ac202",
   "metadata": {},
   "source": [
    "Habe das \"Problem\" behoben, indem ich den Graph orientiert habe und dabei die Orientierungen aus der Skizze übernommen habe. Die Lösung ist nun identisch zur Musterlösung (inkl. VZ)."
   ]
  },
  {
   "cell_type": "markdown",
   "id": "b8952210",
   "metadata": {},
   "source": [
    "**Bemerke**  \n",
    "Wahrscheinlich kann auch das \"Problem\" mit den künstlichen Widerständen umgangen werden, wenn man einfach keine Edge zuweißt und nur die Potentialdifferenz über die Nodes berücksichtigt."
   ]
  },
  {
   "cell_type": "markdown",
   "id": "d8cd9747",
   "metadata": {},
   "source": [
    "**Orientierung**\n",
    "Die Sache mit den VZ ist super, wenn man eine Skizze hat aus der man dann beim Initialisieren die Richtung entnehmen kann, aber für unsere finale Version wird das wahrscheinlich nicht praktikabel sein. Es folgt ein Ansatz um die Orientierung auf jedem Widerstand nach dem Potential auszurichten."
   ]
  },
  {
   "cell_type": "code",
   "execution_count": 17,
   "id": "1b803227",
   "metadata": {},
   "outputs": [
    {
     "data": {
      "text/plain": [
       "<5x4 sparse array of type '<class 'numpy.float64'>'\n",
       "\twith 10 stored elements in Compressed Sparse Row format>"
      ]
     },
     "execution_count": 17,
     "metadata": {},
     "output_type": "execute_result"
    }
   ],
   "source": [
    "#Ansatz falls die Orientierung ungünstig ist\n",
    "Mat=Tut.incidence()\n",
    "V=Tut.voltages()\n",
    "for x in range(np.shape(Mat)[0]):\n",
    "    Y=[]\n",
    "    for y in range(np.shape(Mat)[1]):\n",
    "        if Mat[x,y] !=0:\n",
    "            Y.append(y)\n",
    "    Mat[x,Y[0]]=-np.sign(V[Y[0]]-V[Y[1]])\n",
    "    Mat[x,Y[1]]=-Mat[x,Y[0]]\n",
    "Mat"
   ]
  },
  {
   "cell_type": "code",
   "execution_count": 18,
   "id": "b17b4043",
   "metadata": {},
   "outputs": [
    {
     "data": {
      "text/plain": [
       "array([0.001, 0.002, 0.144, 0.428, 0.286])"
      ]
     },
     "execution_count": 18,
     "metadata": {},
     "output_type": "execute_result"
    }
   ],
   "source": [
    "- (sparse.linalg.inv(Tut.resistor()) @ Mat) @ Tut.voltages()"
   ]
  },
  {
   "cell_type": "markdown",
   "id": "991ff0a8",
   "metadata": {},
   "source": [
    "*Die Werte sind nun alle positiv - alle Ströme sind so orientiert, dass der Strom von hohem zu niedrigen Potential fließt*"
   ]
  },
  {
   "cell_type": "markdown",
   "id": "bf95d1cb",
   "metadata": {},
   "source": [
    "Final wird es wohl effizienter sein, das direkt bei der Konstruktion der Kanten des Graphen zu berücksichtigen, anstatt das im Nachhinein zu machen."
   ]
  },
  {
   "cell_type": "markdown",
   "id": "5e30fbcf",
   "metadata": {},
   "source": [
    "#### Wheatstone Brücke\n",
    "Als zweites Beispiel eine Wheatstone-Brückenschaltung"
   ]
  },
  {
   "cell_type": "code",
   "execution_count": 19,
   "id": "126c9fde",
   "metadata": {},
   "outputs": [
    {
     "data": {
      "image/png": "[encoded data removed]",
      "text/plain": [
       "<Figure size 640x480 with 1 Axes>"
      ]
     },
     "metadata": {},
     "output_type": "display_data"
    }
   ],
   "source": [
    "#see https://www.youtube.com/watch?v=04E7zPdOEh8\n",
    "B=nx.Graph()\n",
    "B.add_nodes_from(range(4))\n",
    "B.add_edges_from([(0,1),(0,2),(1,3),(1,2),(3,2)])\n",
    "\n",
    "nx.draw_networkx(B)\n",
    "\n",
    "\n",
    "B.nodes[0]['potential'] = 0\n",
    "B.nodes[1]['potential'] = 7.86\n",
    "B.nodes[2]['potential'] = 7.38\n",
    "B.nodes[3]['potential'] = 10\n",
    "\n",
    "B.edges[0,1]['weight'] = 4\n",
    "B.edges[1,2]['weight'] = 3\n",
    "B.edges[3,2]['weight'] = 2\n",
    "B.edges[2,0]['weight'] = 5\n",
    "B.edges[1,3]['weight'] = 1\n"
   ]
  },
  {
   "cell_type": "code",
   "execution_count": 20,
   "id": "09f071f7",
   "metadata": {},
   "outputs": [
    {
     "data": {
      "text/plain": [
       "array([-1.965, -1.476, -2.14 ,  0.16 , -1.31 ])"
      ]
     },
     "execution_count": 20,
     "metadata": {},
     "output_type": "execute_result"
    }
   ],
   "source": [
    "Wheat=Rommes(B)\n",
    "Wheat.currents()"
   ]
  },
  {
   "cell_type": "markdown",
   "id": "9b6ff9f1",
   "metadata": {},
   "source": [
    "Die Zahlen Werte werden bis auf wenige Prozent Abweichung erreicht (würde ich auf die Rundung in der Ressource schieben). Die Stromvorzeichen sind allerdings zufällig."
   ]
  },
  {
   "cell_type": "markdown",
   "id": "16338007",
   "metadata": {},
   "source": [
    "#### 3D Kubus\n",
    "Um die Veralgemeinerung des Systems auch in 3D zu testen wurde ein simpler 2x2x2 Würfel getestet. Hier gab es keine Musterlösung, deshalb werden die einzelnen Ströme auch Punktweise berechnet und verglichen."
   ]
  },
  {
   "cell_type": "code",
   "execution_count": 21,
   "id": "46e3e855",
   "metadata": {},
   "outputs": [
    {
     "data": {
      "image/png": "[encoded data removed]",
      "text/plain": [
       "<Figure size 640x480 with 1 Axes>"
      ]
     },
     "metadata": {},
     "output_type": "display_data"
    }
   ],
   "source": [
    "#Initialize Lattice\n",
    "x1=2\n",
    "x2=2\n",
    "x3=2\n",
    "K = nx.grid_graph(dim=(x1,x2,x3)) #3D Grid\n",
    "#Adjacency Matrix\n",
    "A3=nx.adjacency_matrix(K, dtype = \"float32\") # wird nirgendwo verwendet - nur incidence ist bedeutungsvoll\n",
    "\n",
    "# 3D Resistances\n",
    "\n",
    "for (u, v) in K.edges():\n",
    "    K.edges[u,v]['weight'] = 1\n",
    "\n",
    "\n",
    "#Randomize 3D Potentials\n",
    "P_0=0\n",
    "sigmaP=0.5\n",
    "\n",
    "for (i,j,k) in K.nodes:\n",
    "    K.nodes[i,j,k]['potential'] = random.normalvariate(P_0, sigmaP)\n",
    "labelsK = nx.get_node_attributes(K, 'potential') \n",
    "\n",
    "#Draw\n",
    "nx.draw_networkx(K)"
   ]
  },
  {
   "cell_type": "code",
   "execution_count": 22,
   "id": "cc79da90",
   "metadata": {},
   "outputs": [
    {
     "data": {
      "text/plain": [
       "array([-0.01418127, -0.7414024 , -1.00010864,  0.61149025,  0.4722648 ,\n",
       "        0.45876796,  0.21355857,  0.20639669, -0.26845317, -0.37443712,\n",
       "        0.06717124, -0.03881271])"
      ]
     },
     "execution_count": 22,
     "metadata": {},
     "output_type": "execute_result"
    }
   ],
   "source": [
    "Kub=Rommes(K)\n",
    "Kub.currents()"
   ]
  },
  {
   "cell_type": "code",
   "execution_count": 23,
   "id": "c898f13e",
   "metadata": {
    "scrolled": true
   },
   "outputs": [
    {
     "data": {
      "text/plain": [
       "True"
      ]
     },
     "execution_count": 23,
     "metadata": {},
     "output_type": "execute_result"
    }
   ],
   "source": [
    "x=[]\n",
    "for (i,j) in K.edges():\n",
    "    x.append(K.nodes[i][\"potential\"]-K.nodes[j][\"potential\"]) #Verwende dass R=1\n",
    "np.array_equal(x,Kub.currents())"
   ]
  },
  {
   "cell_type": "code",
   "execution_count": 28,
   "id": "a35d67c9",
   "metadata": {},
   "outputs": [
    {
     "data": {
      "text/plain": [
       "array([[0., 1., 1., 0., 1., 0., 0., 0.],\n",
       "       [1., 0., 0., 1., 0., 1., 0., 0.],\n",
       "       [1., 0., 0., 1., 0., 0., 1., 0.],\n",
       "       [0., 1., 1., 0., 0., 0., 0., 1.],\n",
       "       [1., 0., 0., 0., 0., 1., 1., 0.],\n",
       "       [0., 1., 0., 0., 1., 0., 0., 1.],\n",
       "       [0., 0., 1., 0., 1., 0., 0., 1.],\n",
       "       [0., 0., 0., 1., 0., 1., 1., 0.]], dtype=float32)"
      ]
     },
     "execution_count": 28,
     "metadata": {},
     "output_type": "execute_result"
    }
   ],
   "source": [
    "A3.todense()"
   ]
  },
  {
   "cell_type": "markdown",
   "id": "9fef746c",
   "metadata": {},
   "source": [
    "Auch in 3D funktioniert der Algorithmus. Allerdings bin ich über die Frage gestolpert, ob unser Problem nicht auch durch die hier verwendetete Formel zur Berechnung des Stromes über die Differenz der Potentiale (geteilt durch den Widerstand) effizienter gelöst werden könnte. Das wird wohl davon abhängen, wie oft man das ganze System gelöst braucht und wie oft man immer nur einzelne Knoten betrachtet und wissen will wohin ein Teilchen weiterwandert."
   ]
  },
  {
   "cell_type": "markdown",
   "id": "bf3d2aef",
   "metadata": {},
   "source": [
    "### Laufzeittest mit vielen Sites\n",
    "Im Folgenden soll die Laufzeit mit einer größeren Menge an Sites getestet werden"
   ]
  },
  {
   "cell_type": "markdown",
   "id": "8ba5910e",
   "metadata": {},
   "source": [
    "#Initialize Lattice\n",
    "Size=50\n",
    "x1=Size\n",
    "x2=Size\n",
    "x3=Size\n",
    "fifty = nx.grid_graph(dim=(x1,x2,x3)) #3D Grid\n",
    "\n",
    "#Randomize 3D Resistances\n",
    "R_0=1\n",
    "sigmaR=0.05\n",
    "\n",
    "for (u, v) in fifty.edges():\n",
    "    fifty.edges[u,v]['weight'] = random.normalvariate(R_0, sigmaR)\n",
    "\n",
    "\n",
    "#Randomize 3D Potentials\n",
    "P_0=0\n",
    "sigmaP=0.5\n",
    "\n",
    "for (i,j,k) in Tau.nodes:\n",
    "    fifty.nodes[i,j,k]['potential'] = random.normalvariate(P_0, sigmaP)\n",
    "\n",
    "FSites=Rommes(fifty)"
   ]
  },
  {
   "cell_type": "markdown",
   "id": "8af189a4",
   "metadata": {},
   "source": [
    "%%time\n",
    "FSites.currents()"
   ]
  },
  {
   "cell_type": "markdown",
   "id": "2b17038a",
   "metadata": {},
   "source": [
    "Für 50x50x50 wird auf dem lokalen Rechner am Insitut folgende Zeit gebraucht   \n",
    "\n",
    "CPU times: user 51min 45s, sys: 42 s, total: 52min 27s   \n",
    "Wall time: 52min 27s   \n",
    "\n",
    "und ca 3 GB RAM"
   ]
  },
  {
   "cell_type": "markdown",
   "id": "116a408d",
   "metadata": {},
   "source": [
    "### Following the Paper: Green's Function for Random Resistor Networks - Bhattacharjee und Ramola 2023"
   ]
  },
  {
   "cell_type": "markdown",
   "id": "9449e290",
   "metadata": {},
   "source": [
    "*Das Vorgehen ist eine Fortsetzung des Papers: Application of the lattice Greens function for calculating the resistance of an infinite network of resistors - Cserti 2000*"
   ]
  },
  {
   "cell_type": "markdown",
   "id": "fe0278d6",
   "metadata": {},
   "source": [
    "Zu lösen ist im Paper die Gleichung\n",
    "$$\n",
    "L \\mid V \\rangle + \\mid I\\rangle =0\n",
    "$$\n",
    " mit der Leitfäghigkeitsmatrix (oder Gitterlaplacian)\n",
    " $$\n",
    "[\\mathbf{L}]_{i j}:= \\begin{cases}-\\sum_{j \\text { with }\\langle i j\\rangle}\\left(R_{i j}\\right)^{-1} & \\text { if } i=j \\\\ \\left(R_{i j}\\right)^{-1} & \\text { if }\\langle i j\\rangle \\\\ 0 & \\text { otherwise. }\\end{cases}\n",
    "$$\n",
    "Es ist zu beachten, dass die  $\\mid I \\rangle$ die Ströme an den Knotenpunkten sind. Die Ströme über die Widerstände sind\n",
    "$$\n",
    "\\mid J_{\\hat{e}}\\rangle_{i} = \\frac{\\mid V \\rangle _{i} - \\mid V \\rangle _{j}}{R_{ij}}  \\text{   mit } \\langle ij \\rangle _{\\hat{e}}\n",
    "$$"
   ]
  },
  {
   "cell_type": "markdown",
   "id": "73339306",
   "metadata": {},
   "source": [
    "Es wird dann die Greensfuntkion\n",
    "$$\n",
    "G=L^{-1}\n",
    "$$\n",
    "definiert und gesucht. Durch die Summenregel in Kichhoffsgesetz ist $L$ nicht invertierbar und wir deshalb aus der Nullmode $\\mid 0 \\rangle = (1 1 1 1 )^T$ herausprojeziert (???). Damit ist dann\n",
    "$$\n",
    "LG=GL=-(\\mathbb{1} - \\mid 0 \\rangle \\langle 0  \\mid)\n",
    "$$\n",
    "Die Inverse $G$ kann entweder nummerisch, oder mit dem im Paper vorgeschlagenen Ansatz als Greensfunktion des perfekten Gitters und Korrekturen berechnet werden.   \n",
    "Die Ströme über die Widerstände können aus\n",
    "aus\n",
    "$$\n",
    "D_{\\hat{e}}\\left|V\\right\\rangle + \\left|J_{\\hat{e}}\\right\\rangle =0\n",
    "$$\n",
    "\n",
    "als \n",
    "$$\n",
    "\\left|J_{\\hat{e}}\\right\\rangle=-\\mathrm{D}_{\\hat{e}}|V\\rangle\n",
    "$$\n",
    "berechnet werden, sobald die Spannungen bekannt sind. Dabei ist die Differenzmatrix $D_{\\hat{e}}$ definiert als\n",
    "$$\n",
    "\\left[\\mathrm{D}_{\\hat{e}}\\right]_{i j}:=\\left(R_{\\langle i j\\rangle_{\\hat{e}}}\\right)^{-1} \\begin{cases}-1 & \\text { if } i=j \\\\ 1 & \\text { if }\\langle i j\\rangle_{\\hat{e}} \\\\ 0 & \\text { otherwise }\\end{cases}\n",
    "$$\n"
   ]
  },
  {
   "cell_type": "markdown",
   "id": "67efb205",
   "metadata": {},
   "source": [
    "Es bleibt unklar wie die Widerstände der Diagonalelemente zu verstehen sind."
   ]
  },
  {
   "cell_type": "code",
   "execution_count": 24,
   "id": "42991672",
   "metadata": {},
   "outputs": [],
   "source": [
    "class Ramola:\n",
    "    def __init__(self, G):\n",
    "        self.G=G\n",
    "        self.N=self.G.order()\n",
    "        self.nR=self.G.number_of_edges()\n",
    "        \n",
    "        \n",
    "    def Diff(self):\n",
    "        adj=nx.adjacency_matrix(self.G, weight=None) #Finde Verbindungen\n",
    "        Diff=np.zeros(adj.shape)\n",
    "        for (u, v) in self.G.edges():\n",
    "            Diff[u,v]=1/self.G.edges[u,v]['weight']\n",
    "            Diff[v,u]=-1/self.G.edges[u,v]['weight'] #neg. VZ für Orientierung der Ströme \n",
    "        \n",
    "        #Hier müsste noch ein Teil für die Diagonalelemente sein - aber was sollen die Widerstandswerte bedeuten?\n",
    "        \n",
    "        return Diff\n",
    "    \n",
    "    def voltages(self):\n",
    "        #Get the potential values from the nodes and build a vector\n",
    "        vec=np.zeros(self.N)\n",
    "        i=0\n",
    "        for u in self.G.nodes:\n",
    "            vec[i]=self.G.nodes[u]['potential']\n",
    "            i+=1\n",
    "        return vec    \n",
    "    \n",
    "    def currents(self):\n",
    "        #Combines the other functions to get the currents trough the resistors\n",
    "        return - np.matmul(np.linalg.inv(self.Diff()) , self.voltages())"
   ]
  },
  {
   "cell_type": "markdown",
   "id": "13d9fb58",
   "metadata": {},
   "source": [
    "**Baustelle**\n",
    "Die folgenden Zellen sind Schnipsel die ich zum Zusammenbasteln verwendet habe"
   ]
  },
  {
   "cell_type": "code",
   "execution_count": 25,
   "id": "1344eedc",
   "metadata": {},
   "outputs": [],
   "source": [
    "adj=nx.adjacency_matrix(B, weight=None)\n",
    "Diff=np.zeros(adj.shape)\n",
    "for (u, v) in B.edges():\n",
    "    Diff[u,v]=1/B.edges[u,v]['weight']\n",
    "    Diff[v,u]=-1/B.edges[u,v]['weight'] "
   ]
  },
  {
   "cell_type": "code",
   "execution_count": 26,
   "id": "6c58b5b8",
   "metadata": {
    "scrolled": true
   },
   "outputs": [
    {
     "data": {
      "text/plain": [
       "array([[ 0.        ,  0.25      ,  0.2       ,  0.        ],\n",
       "       [-0.25      ,  0.        ,  0.33333333,  1.        ],\n",
       "       [-0.2       , -0.33333333,  0.        ,  0.5       ],\n",
       "       [ 0.        , -1.        , -0.5       ,  0.        ]])"
      ]
     },
     "execution_count": 26,
     "metadata": {},
     "output_type": "execute_result"
    }
   ],
   "source": [
    "Diff"
   ]
  },
  {
   "cell_type": "code",
   "execution_count": 27,
   "id": "1cd1479a",
   "metadata": {
    "scrolled": true
   },
   "outputs": [
    {
     "name": "stdout",
     "output_type": "stream",
     "text": [
      "[ 1.288e+05  5.760e+04  2.880e+01 -5.040e+04]\n",
      "[-0.001 -0.002 -0.144  0.428  0.286]\n"
     ]
    }
   ],
   "source": [
    "Ram=Ramola(W)\n",
    "print(Ram.currents())\n",
    "#Zum Vergleich\n",
    "print(Tut.currents())"
   ]
  },
  {
   "cell_type": "markdown",
   "id": "96249b9c",
   "metadata": {},
   "source": [
    "Der Output ist mit fehlenden Diagonalelementen wie zu erwarten Müll."
   ]
  },
  {
   "cell_type": "markdown",
   "id": "e8131979",
   "metadata": {},
   "source": [
    "### Following Paper: Theory of resistor networks: the two-point resistance: Wu 2004"
   ]
  },
  {
   "cell_type": "markdown",
   "id": "5c2c97a8",
   "metadata": {},
   "source": [
    "Zu Lösen ist \n",
    "$$\n",
    "\\mathbf{L} \\vec{V}=\\vec{I}\n",
    "$$\n",
    "mit den Knotenpotentialen, den **Knotenströmen** und der Leitfähigkeitsmatrix\n",
    "$$\n",
    "\\mathbf{L}=\\left(\\begin{array}{cccc}\n",
    "c_1 & -c_{12} & \\cdots & -c_{1 \\mathcal{N}} \\\\\n",
    "-c_{21} & c_2 & \\cdots & -c_{2 N} \\\\\n",
    "\\vdots & \\vdots & \\ddots & \\vdots \\\\\n",
    "-c_{N 1} & -c_{N 2} & \\cdots & c_{\\mathcal{N}}\n",
    "\\end{array}\\right)\n",
    "$$\n",
    "dabei sind die Offdiagonalelemente die Reziproken der Widerstandswerte der Verbindungen und die Diagonalelemente\n",
    "$$\n",
    "c_i \\equiv \\sum_{j=1}^{\\mathcal{N}} c_{i j}^{\\prime}\n",
    "$$\n",
    "Als Randbedingungen gelten die Kirchhoff Gesetze\n",
    "\n",
    "$$\n",
    "\\sum_{j=1}^{\\mathcal{N}}{ }^{\\prime} c_{i j}\\left(V_i-V_j\\right)=I_i \\quad i=1,2, \\ldots, \\mathcal{N} \\text{ ohne i=j}\n",
    "$$\n",
    "\n",
    "und\n",
    "\n",
    "$$\n",
    "\\sum_{i=1}^{\\mathcal{N}} I_{i} =0\n",
    "$$\n"
   ]
  },
  {
   "cell_type": "markdown",
   "id": "ceb11074",
   "metadata": {},
   "source": [
    "Null ist ein Eigenvektor von $L$, weshalb die Matrix nicht ohne Weiteres invertiert werden kann. Es wird ein kleiner Term addiert\n",
    "$$\n",
    "L(\\epsilon) = L + \\epsilon \\mathbb{1}\n",
    "$$\n",
    "$\\epsilon$ wird am Ende auf Null gesetzt.\n",
    "Mit der Greensfunktion $G$ als Inverse von $L $ werden die Potentiale als $\\vec{V}(\\epsilon) = G(\\epsilon) \\vec{I}$ berechnet.  \n",
    "Dafür wird nun die unitäre Matrix $U$ gesucht die $L$ diagonalisiert\n",
    "$$\n",
    "U^{\\dagger} L(\\epsilon) U = \\Lambda (\\epsilon)\n",
    "$$\n",
    "dabei hat die Matrix $\\Lambda$ die Eigenwerte (bzw. ihre um $\\epsilon$ verschobenen Werte) von $L$ auf der Hauptdiagonalen. Die Matrix $U$ hat die Eigenvektorelemente $U_{ij}=\\Psi_{ij}$.   \n",
    "Damit ist\n",
    "$$\n",
    "G_{\\alpha \\beta}(\\epsilon)=\\sum_{i=1}^{\\mathcal{N}} U_{\\alpha i}\\left(\\frac{1}{\\lambda_i+\\epsilon}\\right) U_{\\beta i}^*\n",
    "$$\n",
    "oder die (in diesem Paper gesuchenten) Widerstände\n",
    "$$\n",
    "R_{\\alpha \\beta}=\\sum_{i=2}^{\\mathcal{N}} \\frac{1}{\\lambda_i}\\left|\\psi_{i \\alpha}-\\psi_{i \\beta}\\right|^2\n",
    "$$"
   ]
  },
  {
   "cell_type": "markdown",
   "id": "f1468361",
   "metadata": {},
   "source": [
    "Leider wird hier nicht auf die Ströme über die Widerstände eingegangen.   \n"
   ]
  },
  {
   "cell_type": "markdown",
   "id": "cfefe1c8",
   "metadata": {},
   "source": [
    "Im Weiteren heißt es aber in dem Paper, dass die Widerstände auch Probabilistisch in Relation zu Übergangsraten interpretiert werden können. Zumindest diese Aussage, könnte interessant sein. (Suche \"probabilistic interpretation\")"
   ]
  },
  {
   "cell_type": "code",
   "execution_count": null,
   "id": "3181c436",
   "metadata": {},
   "outputs": [],
   "source": []
  }
 ],
 "metadata": {
  "kernelspec": {
   "display_name": "Python 3 (ipykernel)",
   "language": "python",
   "name": "python3"
  },
  "language_info": {
   "codemirror_mode": {
    "name": "ipython",
    "version": 3
   },
   "file_extension": ".py",
   "mimetype": "text/x-python",
   "name": "python",
   "nbconvert_exporter": "python",
   "pygments_lexer": "ipython3",
   "version": "3.10.11"
  }
 },
 "nbformat": 4,
 "nbformat_minor": 5
}
